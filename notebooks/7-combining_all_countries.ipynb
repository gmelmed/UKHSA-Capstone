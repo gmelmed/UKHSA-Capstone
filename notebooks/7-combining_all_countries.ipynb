{
 "cells": [
  {
   "cell_type": "code",
   "execution_count": 1,
   "id": "f9b2c50b-eed9-4bbe-8fae-3681336f9028",
   "metadata": {},
   "outputs": [],
   "source": [
    "import json\n",
    "import requests # to download some resources\n",
    "import os # file operations\n",
    "import numpy as np # linear algebra\n",
    "import pandas as pd # data processing"
   ]
  },
  {
   "cell_type": "markdown",
   "id": "5bf430a0",
   "metadata": {},
   "source": [
    "### Combining all countries - overview"
   ]
  },
  {
   "cell_type": "code",
   "execution_count": 8,
   "id": "9c7ac386-663c-4277-b442-5cb51c57b86d",
   "metadata": {},
   "outputs": [
    {
     "name": "stderr",
     "output_type": "stream",
     "text": [
      "/var/folders/mw/rc0rz1pd0l750kf2mdl_jhbh0000gn/T/ipykernel_18906/2465783671.py:55: SettingWithCopyWarning: \n",
      "A value is trying to be set on a copy of a slice from a DataFrame.\n",
      "Try using .loc[row_indexer,col_indexer] = value instead\n",
      "\n",
      "See the caveats in the documentation: https://pandas.pydata.org/pandas-docs/stable/user_guide/indexing.html#returning-a-view-versus-a-copy\n",
      "  full_data_countries['country'] = full_data_countries['country'].str.replace('\"', '', regex=False)\n"
     ]
    }
   ],
   "source": [
    "# Consolidating answers from the whole sample\n",
    "# Folder Path\n",
    "testing_json = f\"../data/4-summary-responses-json/version_yesno_updated/Testing_Sample\"\n",
    "design_json = f\"../data/4-summary-responses-json/version_yesno_updated/Design_Sample\"\n",
    "full_json = f\"../data/4-summary-responses-json/version_yesno_updated/Testing_FullSample\"\n",
    "\n",
    "# Lista para almacenar los DataFrames\n",
    "dfs = []\n",
    "\n",
    "# Recorrer todos los archivos en la carpeta\n",
    "for file_name in os.listdir(design_json):\n",
    "    if file_name.endswith(\".json\"): \n",
    "        file_path = os.path.join(design_json, file_name) \n",
    "        \n",
    "        df = pd.read_json(file_path)\n",
    "        dfs.append(df)\n",
    "\n",
    "for file_name in os.listdir(testing_json):\n",
    "    if file_name.endswith(\".json\"): \n",
    "        file_path = os.path.join(testing_json, file_name) \n",
    "    \n",
    "        df = pd.read_json(file_path)\n",
    "        dfs.append(df)\n",
    "\n",
    "for file_name in os.listdir(full_json):\n",
    "    if file_name.endswith(\".json\"): \n",
    "        file_path = os.path.join(full_json, file_name) \n",
    "        \n",
    "        df = pd.read_json(file_path) \n",
    "        dfs.append(df)\n",
    "\n",
    "# Concatenar todos los DataFrames en uno solo\n",
    "combined_data = pd.concat(dfs, ignore_index=True)\n",
    "\n",
    "# Collapse by country and question\n",
    "combined_data = combined_data.groupby(['country', 'question'], as_index=False).agg({\n",
    "    'answer': lambda x: ', '.join(x.dropna().astype(str).tolist()),\n",
    "    'supporting_chunks': 'first',\n",
    "    'answer_full': 'first',\n",
    "    'supporting_text': 'first'\n",
    "})\n",
    "\n",
    "combined_data['question'] = combined_data['question'].astype(str)\n",
    "combined_data['country'] = combined_data['country'].astype(str)\n",
    "combined_data = combined_data.rename(columns={\"answer\": \"answer_chunking\"})\n",
    "\n",
    "combined_data = combined_data.drop(columns=['supporting_chunks', 'supporting_text'])\n",
    "\n",
    "# Keep one answer, answer_full preferred over answer_chunking. If answer_full is missing, use answer_chunking\n",
    "combined_data['answer'] = combined_data['answer_full']\n",
    "combined_data.loc[combined_data['answer'].isnull(), 'answer'] = combined_data['answer_chunking']\n",
    "\n",
    "full_data_countries = combined_data[['country', 'question', 'answer']]\n",
    "\n",
    "full_data_countries['country'] = full_data_countries['country'].str.replace('\"', '', regex=False)\n",
    "\n",
    "# Save the data\n",
    "output_path = f\"../data/6-performance/combined_all_countries_overview.xlsx\"  # Nombre del archivo Excel\n",
    "full_data_countries.to_excel(output_path, index=False)"
   ]
  },
  {
   "cell_type": "code",
   "execution_count": 9,
   "id": "45641948",
   "metadata": {},
   "outputs": [
    {
     "data": {
      "text/plain": [
       "array(['albania', 'bruneibuthan', 'eswatini', 'fiji', 'kuwait', 'lebanon',\n",
       "       'liberia', 'maldives', 'micronesia', 'nepal', 'nigeria',\n",
       "       'palestine', 'saudi arabia', 'sri lanka', 'turkmenistan',\n",
       "       'afghanistan', 'arab_emirates', 'argentina', 'australia',\n",
       "       'bangladesh', 'barbados', 'canada', 'cayman_islands', 'chile',\n",
       "       'colombia', 'costa_rica', 'denmark', 'egypt', 'el_salvador',\n",
       "       'eritrea', 'ethiopia', 'finland', 'france', 'germany', 'ghana',\n",
       "       'india', 'iran', 'ireland', 'kenya', 'libya', 'malawi', 'malaysia',\n",
       "       'malta', 'mauritius', 'mongolia', 'myanmar', 'namibia', 'nauru',\n",
       "       'netherlands', 'norway', 'oman', 'pakistan', 'papua_new_guinea',\n",
       "       'paraguay', 'peru', 'qatar', 'rep_of_macedonia', 'rwanda', 'samoa',\n",
       "       'sierra_leone', 'solomon_islands', 'somalia', 'south africa',\n",
       "       'spain', 'sudan', 'sweden', 'switzerland', 'syria', 'tajikistan',\n",
       "       'tanzania', 'thailand', 'timor', 'tonga', 'tunisia', 'tuvalu',\n",
       "       'united_kingdom', 'united_states', 'uruguay', 'vietnam', 'yemen',\n",
       "       'zambia'], dtype=object)"
      ]
     },
     "execution_count": 9,
     "metadata": {},
     "output_type": "execute_result"
    }
   ],
   "source": [
    "full_data_countries.country.unique()"
   ]
  }
 ],
 "metadata": {
  "kernelspec": {
   "display_name": "Python 3",
   "language": "python",
   "name": "python3"
  },
  "language_info": {
   "codemirror_mode": {
    "name": "ipython",
    "version": 3
   },
   "file_extension": ".py",
   "mimetype": "text/x-python",
   "name": "python",
   "nbconvert_exporter": "python",
   "pygments_lexer": "ipython3",
   "version": "3.10.10"
  }
 },
 "nbformat": 4,
 "nbformat_minor": 5
}

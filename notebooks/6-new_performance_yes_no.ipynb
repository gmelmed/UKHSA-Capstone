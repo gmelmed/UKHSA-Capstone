{
 "cells": [
  {
   "cell_type": "code",
   "execution_count": 2,
   "id": "779e79dc-d27d-4466-a01a-09fbc737e24d",
   "metadata": {},
   "outputs": [],
   "source": [
    "import json\n",
    "import requests # to download some resources\n",
    "import os # file operations\n",
    "import numpy as np # linear algebra\n",
    "import pandas as pd # data processing"
   ]
  },
  {
   "cell_type": "code",
   "execution_count": 1,
   "id": "f90e133f-99b7-4d2b-a72e-31f640ad0b56",
   "metadata": {},
   "outputs": [
    {
     "ename": "NameError",
     "evalue": "name 'pd' is not defined",
     "output_type": "error",
     "traceback": [
      "\u001b[0;31m---------------------------------------------------------------------------\u001b[0m",
      "\u001b[0;31mNameError\u001b[0m                                 Traceback (most recent call last)",
      "Cell \u001b[0;32mIn[1], line 2\u001b[0m\n\u001b[1;32m      1\u001b[0m \u001b[38;5;66;03m#Loading data \u001b[39;00m\n\u001b[0;32m----> 2\u001b[0m combined_data \u001b[38;5;241m=\u001b[39m pd\u001b[38;5;241m.\u001b[39mread_excel(\u001b[38;5;124mf\u001b[39m\u001b[38;5;124m\"\u001b[39m\u001b[38;5;124m../data/6-performance/combined_data_new.xlsx\u001b[39m\u001b[38;5;124m\"\u001b[39m)\n\u001b[1;32m      4\u001b[0m \u001b[38;5;66;03m# Convert categorical yes/no answers to binary (1 for yes, 0 for no)\u001b[39;00m\n\u001b[1;32m      5\u001b[0m combined_data[\u001b[38;5;124m'\u001b[39m\u001b[38;5;124mchunking_binary\u001b[39m\u001b[38;5;124m'\u001b[39m] \u001b[38;5;241m=\u001b[39m combined_data[\u001b[38;5;124m'\u001b[39m\u001b[38;5;124manswer_chunking\u001b[39m\u001b[38;5;124m'\u001b[39m]\u001b[38;5;241m.\u001b[39mapply(\u001b[38;5;28;01mlambda\u001b[39;00m x: \u001b[38;5;241m1\u001b[39m \u001b[38;5;28;01mif\u001b[39;00m x \u001b[38;5;241m==\u001b[39m \u001b[38;5;124m'\u001b[39m\u001b[38;5;124myes\u001b[39m\u001b[38;5;124m'\u001b[39m \u001b[38;5;28;01melse\u001b[39;00m (\u001b[38;5;241m0\u001b[39m \u001b[38;5;28;01mif\u001b[39;00m x \u001b[38;5;241m==\u001b[39m \u001b[38;5;124m'\u001b[39m\u001b[38;5;124mno\u001b[39m\u001b[38;5;124m'\u001b[39m \u001b[38;5;28;01melse\u001b[39;00m \u001b[38;5;28;01mNone\u001b[39;00m))\n",
      "\u001b[0;31mNameError\u001b[0m: name 'pd' is not defined"
     ]
    }
   ],
   "source": [
    "#Loading data \n",
    "combined_data = pd.read_excel(f\"../data/6-performance/combined_data_new.xlsx\")\n",
    "\n",
    "# Convert categorical yes/no answers to binary (1 for yes, 0 for no)\n",
    "combined_data['chunking_binary'] = combined_data['answer_chunking'].apply(lambda x: 1 if x == 'yes' else (0 if x == 'no' else None))\n",
    "combined_data['full_binary'] = combined_data['answer_full'].apply(lambda x: 1 if x == 'yes' else (0 if x == 'no' else None))\n",
    "combined_data['annotation_binary'] = combined_data['answer'].apply(lambda x: 1 if x == 'yes' else (0 if x == 'no' else None))\n"
   ]
  },
  {
   "cell_type": "code",
   "execution_count": null,
   "id": "38c6ef88",
   "metadata": {},
   "outputs": [],
   "source": [
    "# in combined_data, delete rows where the answer is not yes or no\n",
    "combined_data = combined_data[combined_data['answer'].isin(['yes', 'no'])]\n",
    "combined_data = combined_data[combined_data['answer_chunking'].isin(['yes', 'no'])]\n"
   ]
  },
  {
   "cell_type": "code",
   "execution_count": null,
   "id": "6788c122-0d7e-4ad6-ac95-150951488564",
   "metadata": {},
   "outputs": [
    {
     "name": "stdout",
     "output_type": "stream",
     "text": [
      "Accuracy_full (Yes/No Questions): 0.95\n",
      "Precision_full (Yes/No Questions): 0.96\n",
      "Recall_full (Yes/No Questions): 0.98\n",
      "F1 Score_full (Yes/No Questions): 0.97\n",
      "Accuracy_chunking (Yes/No Questions): 0.93\n",
      "Precision_chunking (Yes/No Questions): 0.93\n",
      "Recall_chunking(Yes/No Questions): 0.99\n",
      "F1 Score_chunking (Yes/No Questions): 0.96\n"
     ]
    }
   ],
   "source": [
    "# Performance for yes/no questions\n",
    "from sklearn.metrics import accuracy_score, precision_score, recall_score, f1_score\n",
    "\n",
    "accuracy_full = accuracy_score(combined_data['annotation_binary'], combined_data['full_binary'])\n",
    "precision_full = precision_score(combined_data['annotation_binary'], combined_data['full_binary'])\n",
    "recall_full = recall_score(combined_data['annotation_binary'], combined_data['full_binary'])\n",
    "f1_full = f1_score(combined_data['annotation_binary'], combined_data['full_binary'])\n",
    "\n",
    "accuracy_chunking = accuracy_score(combined_data['annotation_binary'], combined_data['chunking_binary'])\n",
    "precision_chunking  = precision_score(combined_data['annotation_binary'], combined_data['chunking_binary'])\n",
    "recall_chunking  = recall_score(combined_data['annotation_binary'], combined_data['chunking_binary'])\n",
    "f1_chunking  = f1_score(combined_data['annotation_binary'], combined_data['chunking_binary'])\n",
    "\n",
    "\n",
    "# Print results\n",
    "print(f\"Accuracy_full (Yes/No Questions): {accuracy_full:.2f}\")\n",
    "print(f\"Precision_full (Yes/No Questions): {precision_full:.2f}\")\n",
    "print(f\"Recall_full (Yes/No Questions): {recall_full:.2f}\")\n",
    "print(f\"F1 Score_full (Yes/No Questions): {f1_full:.2f}\")\n",
    "\n",
    "# Print results\n",
    "print(f\"Accuracy_chunking (Yes/No Questions): {accuracy_chunking:.2f}\")\n",
    "print(f\"Precision_chunking (Yes/No Questions): {precision_chunking:.2f}\")\n",
    "print(f\"Recall_chunking(Yes/No Questions): {recall_chunking:.2f}\")\n",
    "print(f\"F1 Score_chunking (Yes/No Questions): {f1_chunking:.2f}\")"
   ]
  },
  {
   "cell_type": "code",
   "execution_count": null,
   "id": "a9ff42ef-0335-4593-97b3-1d62a8bec6af",
   "metadata": {},
   "outputs": [],
   "source": []
  }
 ],
 "metadata": {
  "kernelspec": {
   "display_name": "Python 3",
   "language": "python",
   "name": "python3"
  },
  "language_info": {
   "codemirror_mode": {
    "name": "ipython",
    "version": 3
   },
   "file_extension": ".py",
   "mimetype": "text/x-python",
   "name": "python",
   "nbconvert_exporter": "python",
   "pygments_lexer": "ipython3",
   "version": "3.12.7"
  }
 },
 "nbformat": 4,
 "nbformat_minor": 5
}

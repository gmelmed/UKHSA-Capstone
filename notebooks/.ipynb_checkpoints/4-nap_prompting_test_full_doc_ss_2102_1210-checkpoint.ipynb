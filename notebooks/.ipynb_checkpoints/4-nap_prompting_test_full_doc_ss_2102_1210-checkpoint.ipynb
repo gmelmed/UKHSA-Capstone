{
 "cells": [
  {
   "cell_type": "markdown",
   "metadata": {},
   "source": [
    "## Running prompts on OpenAI"
   ]
  },
  {
   "cell_type": "code",
   "execution_count": null,
   "metadata": {},
   "outputs": [],
   "source": [
    "%pip install markdown\n",
    "%pip install annoy\n",
    "%pip install openai"
   ]
  },
  {
   "cell_type": "code",
   "execution_count": 1,
   "metadata": {},
   "outputs": [],
   "source": [
    "from openai import OpenAI # OpenAI API\n",
    "import json\n",
    "import requests # to download some resources\n",
    "import os # file operations\n",
    "import numpy as np # linear algebra\n",
    "import pandas as pd # data processing\n",
    "from markdown import markdown # to render markdown\n",
    "from IPython.display import Markdown\n",
    "import annoy # Approximate Nearest Neighbors Oh Yeah for fast searching\n",
    "import pickle\n",
    "from annoy import AnnoyIndex"
   ]
  },
  {
   "cell_type": "code",
   "execution_count": 2,
   "metadata": {},
   "outputs": [],
   "source": [
    "# read in our api key\n",
    "with open('../api-keys/our_api_key.txt', 'r') as file:\n",
    "    api_key = file.read().replace('\\n', '')\n",
    "\n",
    "# read in finns api key (the one we'll use for testing)\n",
    "with open('../api-keys/finns_api_key.txt', 'r') as file:\n",
    "    finns_api_key = file.read().replace('\\n', '')"
   ]
  },
  {
   "cell_type": "code",
   "execution_count": 3,
   "metadata": {},
   "outputs": [],
   "source": [
    "# Setting the OpenAI\n",
    "client = OpenAI(api_key=finns_api_key) # using finns for testing"
   ]
  },
  {
   "cell_type": "markdown",
   "metadata": {},
   "source": [
    "#### Sample of countries"
   ]
  },
  {
   "cell_type": "code",
   "execution_count": 4,
   "metadata": {},
   "outputs": [],
   "source": [
    "# Sample of countries\n",
    "sample_countries = ['Finland','Netherlands','Denmark','Norway', 'Chile', 'Bangladesh']\n",
    "\n",
    "# Folder with raw PDFs\n",
    "folder_mds = \"../data/3-naps-md\"\n",
    "\n",
    "# Importing MDs files\n",
    "for file in os.listdir(folder_mds):\n",
    "    for country in sample_countries:\n",
    "        if country in file:  \n",
    "            with open(os.path.join(folder_mds, file), \"r\", encoding=\"utf-8\") as md_file:\n",
    "                content = md_file.read()\n",
    "            globals()[country.lower()] = content # Saving the MD file in lowercase\n"
   ]
  },
  {
   "cell_type": "markdown",
   "metadata": {},
   "source": [
    "### 1. Using the WHOLE document"
   ]
  },
  {
   "cell_type": "code",
   "execution_count": 5,
   "metadata": {},
   "outputs": [],
   "source": [
    "country_test = chile\n",
    "country_name = \"chile\""
   ]
  },
  {
   "cell_type": "code",
   "execution_count": 6,
   "metadata": {},
   "outputs": [],
   "source": [
    "system_prompt = \"\"\"\n",
    "You are an assistant that extracts and summarizes national action plans for antimicrobial resistance (NAPs). Your task is to answer the following questions concisely while relying strictly on the document content. \n",
    "\n",
    "For each question, provide:\n",
    "1. A 'yes' or 'no' answer.\n",
    "2. The specific text from the document that supports the answer.\n",
    "\n",
    "Here are the questions:\n",
    "\n",
    "1. What is the period considered for the NAP? (Provide the exact years or date range)\n",
    "2. Does the NAP include any strategy/policy/goal/action related to the priority sector of \"Human Health\"? (yes/no + supporting text)\n",
    "3. Does the NAP include any strategy/policy/goal/action related to the priority sector of \"Animal Health\"? (yes/no + supporting text)\n",
    "4. Does the NAP include any strategy/policy/goal/action related to the priority sector of \"Environment\"? (yes/no + supporting text)\n",
    "5. Does the NAP include any strategy/policy/goal/action related to the priority sector of \"Agriculture/Food Security\"? (yes/no + supporting text)\n",
    "6. Does the NAP include any mechanisms for progress reporting to track how its objectives are being met, such as an annual or semi-annual progress report, a dashboard displaying the status, or similar documents/tools? (yes/no + supporting text)\n",
    "7. Does the NAP include any specific, time-bound targets to track progress? (yes/no + supporting text)\n",
    "8. Does the NAP specify any budget allocation assigned for the strategies/policies/goals/actions directed at tackling AMR? (yes/no + supporting text)\n",
    "9. Does the NAP establish a multisectoral committee or task force for AMR coordination? (yes/no + supporting text)\n",
    "10. Does the NAP include any strategy/policy/goal/action related to training and educational initiatives to increase awareness about AMR – in school curricula or professional training programs for doctors and pharmacists? (yes/no + supporting text)\n",
    "11. Does the NAP include any strategy/policy/goal/action related to public awareness campaigns in combating AMR, such as media involvement and community engagement? (yes/no + supporting text)\n",
    "12. Does the NAP include any strategy/policy/goal/action related to international collaboration and support for AMR initiatives, such as partnerships with organizations like WHO, FAO, and OIE? (yes/no + supporting text)\n",
    "13. Does the NAP include any strategy/policy/goal/action related to data collection and analysis for AMR surveillance, such as developing surveillance systems, data collection tools, setting up laboratories for AMR monitoring, or other similar actions? (yes/no + supporting text)\n",
    "14. Does the NAP include any strategy/policy/goal/action related to developing the capacity to detect and report newly emerged resistance that may constitute a public health emergency of international concern, as required by the International Health Regulations (2005)? (yes/no + supporting text)\n",
    "15. Does the NAP include any strategy/policy/goal/action related to specific prevention strategies such as sanitation, hygiene measures, and infection control? (yes/no + supporting text)\n",
    "16. Does the NAP include any strategy/policy/goal/action related to implementing the standards outlined in the OIE Terrestrial and Aquatic Animal Health Codes or the FAO/WHO Codex Alimentarius Code of Practice to Minimize and Contain Antimicrobial Resistance? (yes/no + supporting text)\n",
    "17. Does the NAP include any strategy/policy/goal/action related to regulating the distribution, prescription, and dispensation of antibiotics, such as developing or maintaining essential medicine lists for antibiotics? (yes/no + supporting text)\n",
    "18. Does the NAP include any strategy/policy/goal/action related to strengthening the legislative and regulatory framework for AMR, including laws and regulations for antimicrobial use? (yes/no + supporting text)\n",
    "19. Does the NAP include any strategy/policy/goal/action related to requiring the rational use of antibiotics through regulations/laws? (yes/no + supporting text)\n",
    "20. Does the NAP include any strategy/policy/goal/action related to participating in international collaborative research to support the development of new medicines, diagnostic tools, and vaccines? (yes/no + supporting text)\n",
    "\n",
    "Format the response as a JSON object:\n",
    "{\n",
    "  \"period_start\": \"XXXX\",\n",
    "  \"period_end\":\"YYYY\",\n",
    "  \"questions\": [\n",
    "    {\n",
    "      \"question\": \"Does the NAP include any strategy/policy/goal/action related to the priority sector of 'Human Health'?\",\n",
    "      \"answer\": \"yes\",\n",
    "      \"supporting_text\": \"The NAP mentions specific actions in the human health sector, including...\"\n",
    "    },\n",
    "    ...\n",
    "  ]\n",
    "}\n",
    "\"\"\""
   ]
  },
  {
   "cell_type": "code",
   "execution_count": 7,
   "metadata": {},
   "outputs": [
    {
     "name": "stdout",
     "output_type": "stream",
     "text": [
      "{\n",
      "  \"period_start\": \"2021\",\n",
      "  \"period_end\": \"2025\",\n",
      "  \"questions\": [\n",
      "    {\n",
      "      \"question\": \"Does the NAP include any strategy/policy/goal/action related to the priority sector of 'Human Health'?\",\n",
      "      \"answer\": \"yes\",\n",
      "      \"supporting_text\": \"The NAP mentions specific actions in the human health sector, including the prevention and control of infections associated with health care.\"\n",
      "    },\n",
      "    {\n",
      "      \"question\": \"Does the NAP include any strategy/policy/goal/action related to the priority sector of 'Animal Health'?\",\n",
      "      \"answer\": \"yes\",\n",
      "      \"supporting_text\": \"The NAP includes actions to prevent and control infections in animal production and companion animals.\"\n",
      "    },\n",
      "    {\n",
      "      \"question\": \"Does the NAP include any strategy/policy/goal/action related to the priority sector of 'Environment'?\",\n",
      "      \"answer\": \"yes\",\n",
      "      \"supporting_text\": \"The NAP emphasizes the importance of environmental factors in the emergence and spread of antimicrobial resistance.\"\n",
      "    },\n",
      "    {\n",
      "      \"question\": \"Does the NAP include any strategy/policy/goal/action related to the priority sector of 'Agriculture/Food Security'?\",\n",
      "      \"answer\": \"yes\",\n",
      "      \"supporting_text\": \"The NAP addresses the regulation of antimicrobial use in agriculture and promotes sustainable practices.\"\n",
      "    },\n",
      "    {\n",
      "      \"question\": \"Does the NAP include any mechanisms for progress reporting to track how its objectives are being met, such as an annual or semi-annual progress report, a dashboard displaying the status, or similar documents/tools?\",\n",
      "      \"answer\": \"yes\",\n",
      "      \"supporting_text\": \"The NAP outlines the need for annual or biannual operational plans to evaluate and adjust activities.\"\n",
      "    },\n",
      "    {\n",
      "      \"question\": \"Does the NAP include any specific, time-bound targets to track progress?\",\n",
      "      \"answer\": \"yes\",\n",
      "      \"supporting_text\": \"The NAP sets specific objectives and timelines for various actions related to antimicrobial resistance.\"\n",
      "    },\n",
      "    {\n",
      "      \"question\": \"Does the NAP specify any budget allocation assigned for the strategies/policies/goals/actions directed at tackling AMR?\",\n",
      "      \"answer\": \"no\",\n",
      "      \"supporting_text\": \"The document does not mention specific budget allocations for the strategies outlined.\"\n",
      "    },\n",
      "    {\n",
      "      \"question\": \"Does the NAP establish a multisectoral committee or task force for AMR coordination?\",\n",
      "      \"answer\": \"yes\",\n",
      "      \"supporting_text\": \"The NAP establishes a multisectoral committee involving various ministries for coordination.\"\n",
      "    },\n",
      "    {\n",
      "      \"question\": \"Does the NAP include any strategy/policy/goal/action related to training and educational initiatives to increase awareness about AMR – in school curricula or professional training programs for doctors and pharmacists?\",\n",
      "      \"answer\": \"yes\",\n",
      "      \"supporting_text\": \"The NAP promotes the incorporation of AMR topics into educational curricula and training programs.\"\n",
      "    },\n",
      "    {\n",
      "      \"question\": \"Does the NAP include any strategy/policy/goal/action related to public awareness campaigns in combating AMR, such as media involvement and community engagement?\",\n",
      "      \"answer\": \"yes\",\n",
      "      \"supporting_text\": \"The NAP includes plans for public awareness campaigns to inform about the responsible use of antimicrobials.\"\n",
      "    },\n",
      "    {\n",
      "      \"question\": \"Does the NAP include any strategy/policy/goal/action related to international collaboration and support for AMR initiatives, such as partnerships with organizations like WHO, FAO, and OIE?\",\n",
      "      \"answer\": \"yes\",\n",
      "      \"supporting_text\": \"The NAP acknowledges collaboration with international organizations like WHO and FAO.\"\n",
      "    },\n",
      "    {\n",
      "      \"question\": \"Does the NAP include any strategy/policy/goal/action related to data collection and analysis for AMR surveillance, such as developing surveillance systems, data collection tools, setting up laboratories for AMR monitoring, or other similar actions?\",\n",
      "      \"answer\": \"yes\",\n",
      "      \"supporting_text\": \"The NAP outlines the development of an integrated surveillance system for AMR.\"\n",
      "    },\n",
      "    {\n",
      "      \"question\": \"Does the NAP include any strategy/policy/goal/action related to developing the capacity to detect and report newly emerged resistance that may constitute a public health emergency of international concern, as required by the International Health Regulations (2005)?\",\n",
      "      \"answer\": \"yes\",\n",
      "      \"supporting_text\": \"The NAP emphasizes the need for capacity building in detecting and reporting AMR.\"\n",
      "    },\n",
      "    {\n",
      "      \"question\": \"Does the NAP include any strategy/policy/goal/action related to specific prevention strategies such as sanitation, hygiene measures, and infection control?\",\n",
      "      \"answer\": \"yes\",\n",
      "      \"supporting_text\": \"The NAP includes strategies for infection control and hygiene measures to prevent AMR.\"\n",
      "    },\n",
      "    {\n",
      "      \"question\": \"Does the NAP include any strategy/policy/goal/action related to implementing the standards outlined in the OIE Terrestrial and Aquatic Animal Health Codes or the FAO/WHO Codex Alimentarius Code of Practice to Minimize and Contain Antimicrobial Resistance?\",\n",
      "      \"answer\": \"yes\",\n",
      "      \"supporting_text\": \"The NAP refers to the need to align with OIE and FAO standards for antimicrobial use.\"\n",
      "    },\n",
      "    {\n",
      "      \"question\": \"Does the NAP include any strategy/policy/goal/action related to regulating the distribution, prescription, and dispensation of antibiotics, such as developing or maintaining essential medicine lists for antibiotics?\",\n",
      "      \"answer\": \"yes\",\n",
      "      \"supporting_text\": \"The NAP includes regulations for the prescription and distribution of antimicrobials.\"\n",
      "    },\n",
      "    {\n",
      "      \"question\": \"Does the NAP include any strategy/policy/goal/action related to strengthening the legislative and regulatory framework for AMR, including laws and regulations for antimicrobial use?\",\n",
      "      \"answer\": \"yes\",\n",
      "      \"supporting_text\": \"The NAP aims to strengthen the regulatory framework for antimicrobial use.\"\n",
      "    },\n",
      "    {\n",
      "      \"question\": \"Does the NAP include any strategy/policy/goal/action related to requiring the rational use of antibiotics through regulations/laws?\",\n",
      "      \"answer\": \"yes\",\n",
      "      \"supporting_text\": \"The NAP emphasizes the need for regulations to ensure the rational use of antibiotics.\"\n",
      "    },\n",
      "    {\n",
      "      \"question\": \"Does the NAP include any strategy/policy/goal/action related to participating in international collaborative research to support the development of new medicines, diagnostic tools, and vaccines?\",\n",
      "      \"answer\": \"yes\",\n",
      "      \"supporting_text\": \"The NAP encourages participation in international research collaborations for AMR.\"\n",
      "    }\n",
      "  ]\n",
      "}\n"
     ]
    }
   ],
   "source": [
    "response = client.chat.completions.create(\n",
    "    model=\"gpt-4o-mini\",\n",
    "    temperature=0,  # Ensures deterministic output\n",
    "    top_p=0.5,  # Controls diversity\n",
    "    response_format={\"type\": \"json_object\"},\n",
    "    messages=[\n",
    "        {\"role\": \"system\", \"content\": system_prompt},\n",
    "        {\"role\": \"user\", \"content\": country_test}\n",
    "    ]\n",
    ")\n",
    "\n",
    "# Print the structured JSON response\n",
    "print(response.choices[0].message.content)"
   ]
  },
  {
   "cell_type": "code",
   "execution_count": 10,
   "metadata": {},
   "outputs": [
    {
     "name": "stdout",
     "output_type": "stream",
     "text": [
      "Saved response to ../data/4-summary-responses-json/summary_response_chile.json\n"
     ]
    }
   ],
   "source": [
    "# Formatting the JSON\n",
    "\n",
    "c = json.loads(response.choices[0].message.content)\n",
    "period_data = pd.DataFrame([\n",
    "    {\"question\": \"period_start\", \"answer\": c[\"period_start\"], \"supporting_text\": None},\n",
    "    {\"question\": \"period_end\", \"answer\": c[\"period_end\"], \"supporting_text\": None}\n",
    "])\n",
    "\n",
    "df = pd.DataFrame(c[\"questions\"])\n",
    "df = pd.concat([period_data, df], ignore_index=True)\n",
    "df['country']=country_name\n",
    "df = df.rename(columns={\"question\": \"question_text\", \"answer\": \"answer_full\"})\n",
    "df['question']=df['question_text']\n",
    "df.loc[2:, 'question'] = range(1, 1 + len(df) - 2)\n",
    "df = df.drop(columns=['question_text'])\n",
    "output_json = df.to_dict(orient=\"records\")\n",
    "\n",
    "# Saving the JSON\n",
    "output_path = f\"../data/4-summary-responses-json/summary_response_{country_name}.json\"\n",
    "with open(output_path, \"w\") as f:\n",
    "    json.dump(output_json, f, indent=4)\n",
    "\n",
    "print(f\"Saved response to {output_path}\")\n"
   ]
  },
  {
   "cell_type": "code",
   "execution_count": 13,
   "metadata": {},
   "outputs": [
    {
     "data": {
      "text/html": [
       "<div>\n",
       "<style scoped>\n",
       "    .dataframe tbody tr th:only-of-type {\n",
       "        vertical-align: middle;\n",
       "    }\n",
       "\n",
       "    .dataframe tbody tr th {\n",
       "        vertical-align: top;\n",
       "    }\n",
       "\n",
       "    .dataframe thead th {\n",
       "        text-align: right;\n",
       "    }\n",
       "</style>\n",
       "<table border=\"1\" class=\"dataframe\">\n",
       "  <thead>\n",
       "    <tr style=\"text-align: right;\">\n",
       "      <th></th>\n",
       "      <th>answer_full</th>\n",
       "      <th>supporting_text</th>\n",
       "      <th>country</th>\n",
       "      <th>question</th>\n",
       "    </tr>\n",
       "  </thead>\n",
       "  <tbody>\n",
       "    <tr>\n",
       "      <th>0</th>\n",
       "      <td>2021</td>\n",
       "      <td>None</td>\n",
       "      <td>chile</td>\n",
       "      <td>period_start</td>\n",
       "    </tr>\n",
       "    <tr>\n",
       "      <th>1</th>\n",
       "      <td>2025</td>\n",
       "      <td>None</td>\n",
       "      <td>chile</td>\n",
       "      <td>period_end</td>\n",
       "    </tr>\n",
       "    <tr>\n",
       "      <th>2</th>\n",
       "      <td>yes</td>\n",
       "      <td>The NAP mentions specific actions in the human...</td>\n",
       "      <td>chile</td>\n",
       "      <td>1</td>\n",
       "    </tr>\n",
       "    <tr>\n",
       "      <th>3</th>\n",
       "      <td>yes</td>\n",
       "      <td>The NAP includes actions to prevent and contro...</td>\n",
       "      <td>chile</td>\n",
       "      <td>2</td>\n",
       "    </tr>\n",
       "    <tr>\n",
       "      <th>4</th>\n",
       "      <td>yes</td>\n",
       "      <td>The NAP emphasizes the importance of environme...</td>\n",
       "      <td>chile</td>\n",
       "      <td>3</td>\n",
       "    </tr>\n",
       "  </tbody>\n",
       "</table>\n",
       "</div>"
      ],
      "text/plain": [
       "  answer_full                                    supporting_text country  \\\n",
       "0        2021                                               None   chile   \n",
       "1        2025                                               None   chile   \n",
       "2         yes  The NAP mentions specific actions in the human...   chile   \n",
       "3         yes  The NAP includes actions to prevent and contro...   chile   \n",
       "4         yes  The NAP emphasizes the importance of environme...   chile   \n",
       "\n",
       "       question  \n",
       "0  period_start  \n",
       "1    period_end  \n",
       "2             1  \n",
       "3             2  \n",
       "4             3  "
      ]
     },
     "execution_count": 13,
     "metadata": {},
     "output_type": "execute_result"
    }
   ],
   "source": [
    "df.head()"
   ]
  },
  {
   "cell_type": "markdown",
   "metadata": {},
   "source": [
    "---"
   ]
  }
 ],
 "metadata": {
  "kernelspec": {
   "display_name": "Python 3 (ipykernel)",
   "language": "python",
   "name": "python3"
  },
  "language_info": {
   "codemirror_mode": {
    "name": "ipython",
    "version": 3
   },
   "file_extension": ".py",
   "mimetype": "text/x-python",
   "name": "python",
   "nbconvert_exporter": "python",
   "pygments_lexer": "ipython3",
   "version": "3.13.1"
  }
 },
 "nbformat": 4,
 "nbformat_minor": 4
}

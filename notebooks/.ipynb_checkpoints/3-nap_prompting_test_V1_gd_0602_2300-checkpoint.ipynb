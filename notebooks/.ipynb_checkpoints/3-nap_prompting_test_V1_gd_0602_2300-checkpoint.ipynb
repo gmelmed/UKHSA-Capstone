{
 "cells": [
  {
   "cell_type": "markdown",
   "metadata": {},
   "source": [
    "## Running prompts on OpenAI"
   ]
  },
  {
   "cell_type": "code",
   "execution_count": 3,
   "metadata": {},
   "outputs": [
    {
     "name": "stdout",
     "output_type": "stream",
     "text": [
      "Requirement already satisfied: markdown in /Applications/anaconda3/lib/python3.10/site-packages (3.4.1)\n",
      "Note: you may need to restart the kernel to use updated packages.\n",
      "Collecting annoy\n",
      "  Downloading annoy-1.17.3-cp310-cp310-macosx_11_0_arm64.whl (57 kB)\n",
      "\u001b[2K     \u001b[90m━━━━━━━━━━━━━━━━━━━━━━━━━━━━━━━━━━━━━━━━\u001b[0m \u001b[32m57.7/57.7 kB\u001b[0m \u001b[31m3.7 MB/s\u001b[0m eta \u001b[36m0:00:00\u001b[0m\n",
      "\u001b[?25hInstalling collected packages: annoy\n",
      "Successfully installed annoy-1.17.3\n",
      "Note: you may need to restart the kernel to use updated packages.\n"
     ]
    }
   ],
   "source": [
    "%pip install markdown\n",
    "%pip install annoy\n",
    "%pip install openai"
   ]
  },
  {
   "cell_type": "code",
   "execution_count": 3,
   "metadata": {},
   "outputs": [
    {
     "name": "stderr",
     "output_type": "stream",
     "text": [
      "/Applications/anaconda3/lib/python3.10/site-packages/pandas/core/arrays/masked.py:60: UserWarning: Pandas requires version '1.3.6' or newer of 'bottleneck' (version '1.3.5' currently installed).\n",
      "  from pandas.core import (\n"
     ]
    }
   ],
   "source": [
    "from openai import OpenAI # OpenAI API\n",
    "import json\n",
    "import requests # to download some resources\n",
    "import os # file operations\n",
    "import numpy as np # linear algebra\n",
    "import pandas as pd # data processing\n",
    "from markdown import markdown # to render markdown\n",
    "from IPython.display import Markdown\n",
    "import annoy # Approximate Nearest Neighbors Oh Yeah for fast searching\n",
    "import pickle\n",
    "from annoy import AnnoyIndex"
   ]
  },
  {
   "cell_type": "code",
   "execution_count": 4,
   "metadata": {},
   "outputs": [],
   "source": [
    "# read in our api key\n",
    "with open('../api-keys/our_api_key.txt', 'r') as file:\n",
    "    api_key = file.read().replace('\\n', '')\n",
    "\n",
    "# read in finns api key (the one we'll use for testing)\n",
    "with open('../api-keys/finns_api_key.txt', 'r') as file:\n",
    "    finns_api_key = file.read().replace('\\n', '')"
   ]
  },
  {
   "cell_type": "code",
   "execution_count": 5,
   "metadata": {},
   "outputs": [],
   "source": [
    "# Setting the OpenAI\n",
    "client = OpenAI(api_key=finns_api_key) # using finns for testing"
   ]
  },
  {
   "cell_type": "markdown",
   "metadata": {},
   "source": [
    "#### Sample of countries"
   ]
  },
  {
   "cell_type": "code",
   "execution_count": 6,
   "metadata": {},
   "outputs": [],
   "source": [
    "# Sample of countries\n",
    "sample_countries = ['Finland','Netherlands','Denmark','Norway', 'Chile']\n",
    "\n",
    "# Folder with raw PDFs\n",
    "folder_mds = \"../data/3-naps-md\"\n",
    "\n",
    "# Importing MDs files\n",
    "for file in os.listdir(folder_mds):\n",
    "    for country in sample_countries:\n",
    "        if country in file:  \n",
    "            with open(os.path.join(folder_mds, file), \"r\", encoding=\"utf-8\") as md_file:\n",
    "                content = md_file.read()\n",
    "            globals()[country.lower()] = content # Saving the MD file in lowercase"
   ]
  },
  {
   "cell_type": "markdown",
   "metadata": {},
   "source": [
    "### 1. Using the WHOLE document"
   ]
  },
  {
   "cell_type": "markdown",
   "metadata": {},
   "source": [
    "#### * Asking OpenAI -- Example: Norway ||| Question: About policies/objectives"
   ]
  },
  {
   "cell_type": "code",
   "execution_count": 7,
   "metadata": {},
   "outputs": [],
   "source": [
    "country_test = norway # TO CHANGE FOR TESTING"
   ]
  },
  {
   "cell_type": "code",
   "execution_count": 13,
   "metadata": {},
   "outputs": [
    {
     "name": "stdout",
     "output_type": "stream",
     "text": [
      "{\n",
      "  \"policies\": [\n",
      "    {\n",
      "      \"goal\": \"Reduce the total use of antibiotics by 30% among total inhabitants, measured in DDD/1000 inhabitants/day in comparison to 2012.\",\n",
      "      \"metric\": \"DDD/1000 inhabitants/day\",\n",
      "      \"steps\": [\"Enhance understanding among the general population and prescribers about antibiotics usage\", \"Implement mass media campaigns\", \"Improve prescription practices\"],\n",
      "      \"agent\": [\"Norwegian Government\", \"Health and Care Services\", \"Norwegian Board of Health Supervision\"],\n",
      "      \"time_limit\": \"2020\",\n",
      "      \"funding\": null\n",
      "    },\n",
      "    {\n",
      "      \"goal\": \"Be one of the three European countries with the least antibiotics use in humans, measured in DDD/1000 inhabitants/day.\",\n",
      "      \"metric\": \"DDD/1000 inhabitants/day\",\n",
      "      \"steps\": [\"Improve antibiotic prescribing practices\", \"Bring in guidelines and training for prescribers\"],\n",
      "      \"agent\": [\"Norwegian Government\", \"Health Care Services\"],\n",
      "      \"time_limit\": \"2020\",\n",
      "      \"funding\": null\n",
      "    },\n",
      "    {\n",
      "      \"goal\": \"Reduce the prescription of antibiotics from 450 prescriptions per 1000 inhabitants per year to 250 prescriptions per 1000 inhabitants per year.\",\n",
      "      \"metric\": \"prescriptions per 1000 inhabitants per year\",\n",
      "      \"steps\": [\"Promote adherence to prescribing guidelines\", \"Implement an educational initiative for prescribers\"],\n",
      "      \"agent\": [\"Healthcare providers\"],\n",
      "      \"time_limit\": \"2020\",\n",
      "      \"funding\": null\n",
      "    },\n",
      "    {\n",
      "      \"goal\": \"Prescription of antibiotics for respiratory infections will be reduced by 20%, measured in DDD/1000 inhabitants/day, compared to 2012.\",\n",
      "      \"metric\": \"DDD/1000 inhabitants/day\",\n",
      "      \"steps\": [\"Introduce new diagnostic techniques for respiratory infections\", \"Improve clinical guidelines\"],\n",
      "      \"agent\": [\"Health and Care Services\", \"Prescribing professionals\"],\n",
      "      \"time_limit\": \"2020\",\n",
      "      \"funding\": null\n",
      "    },\n",
      "    {\n",
      "      \"goal\": \"Conduct studies on the burden of disease caused by antibiotic resistance and possibly insufficient use of antibiotics.\",\n",
      "      \"metric\": \"Research studies\",\n",
      "      \"steps\": [\"Initiate research projects\", \"Analyze healthcare data\"],\n",
      "      \"agent\": [\"Research institutions\", \"Norwegian Government\"],\n",
      "      \"time_limit\": \"2020\",\n",
      "      \"funding\": null\n",
      "    },\n",
      "    {\n",
      "      \"goal\": \"Perform mapping of reservoirs of antibiotic-resistant bacteria in animal populations and important plants for food safety.\",\n",
      "      \"metric\": null,\n",
      "      \"steps\": [\"Conduct mapping studies\"],\n",
      "      \"agent\": [\"Norwegian Food Safety Authority\"],\n",
      "      \"time_limit\": \"2020\",\n",
      "      \"funding\": null\n",
      "    },\n",
      "    {\n",
      "      \"goal\": \"Keep LA-MRSA out of the Norwegian pig population.\",\n",
      "      \"metric\": null,\n",
      "      \"steps\": [\"Enhanced monitoring\", \"Implement biosecurity measures\"],\n",
      "      \"agent\": [\"Norwegian Food Safety Authority\", \"Pig farming industry\"],\n",
      "      \"time_limit\": \"2020\",\n",
      "      \"funding\": null\n",
      "    },\n",
      "    {\n",
      "      \"goal\": \"Reduce ESBL in the Norwegian poultry-production to a minimum.\",\n",
      "      \"metric\": null,\n",
      "      \"steps\": [\"Limit introduction of resistant bacteria\", \"Implement new production protocols\"],\n",
      "      \"agent\": [\"Norwegian Food Safety Authority\", \"Poultry industry\"],\n",
      "      \"time_limit\": \"2020\",\n",
      "      \"funding\": null\n",
      "    },\n",
      "    {\n",
      "      \"goal\": \"Reduce antibiotic usage in terrestrial food-producing animals by at least 10% compared with 2013.\",\n",
      "      \"metric\": null,\n",
      "      \"steps\": [\"Promote good practices in animal health\", \"Conduct monitoring and reviews\"],\n",
      "      \"agent\": [\"Norwegian Food Safety Authority\", \"Animal farming industry\"],\n",
      "      \"time_limit\": \"2020\",\n",
      "      \"funding\": null\n",
      "    },\n",
      "    {\n",
      "      \"goal\": \"Phase out the use of narasin and other coccidiostats in chicken production, conditionally.\",\n",
      "      \"metric\": null,\n",
      "      \"steps\": [\"Research and validate alternative measures\", \"Assess impacts\"],\n",
      "      \"agent\": [\"Poultry producers\", \"Regulatory bodies\"],\n",
      "      \"time_limit\": \"2020\",\n",
      "      \"funding\": null\n",
      "    },\n",
      "    {\n",
      "      \"goal\": \"Ensure total antibiotic use in fish farming in 2020 remains at or below levels from 2004-2014.\",\n",
      "      \"metric\": \"Total kilograms of antibiotics\",\n",
      "      \"steps\": [\"Implement vaccination and breeding programs\", \"Control environmental conditions\"],\n",
      "      \"agent\": [\"Fish farmers\", \"Veterinary authorities\"],\n",
      "      \"time_limit\": \"2020\",\n",
      "      \"funding\": null\n",
      "    },\n",
      "    {\n",
      "      \"goal\": \"Map the presence of antibiotic-resistant bacteria in diverse environments.\",\n",
      "      \"metric\": null,\n",
      "      \"steps\": [\"Conduct environment and organisms mapping\", \"Implement regular assessments\"],\n",
      "      \"agent\": [\"Environmental agencies\", \"Research institutions\"],\n",
      "      \"time_limit\": \"2020\",\n",
      "      \"funding\": null\n",
      "    },\n",
      "    {\n",
      "      \"goal\": \"Initiate studies on resistance drivers like disinfectants and heavy metals in nature.\",\n",
      "      \"metric\": null,\n",
      "      \"steps\": [\"Formulate and initiate studies\"],\n",
      "      \"agent\": [\"Research entities\", \"Environmental authorities\"],\n",
      "      \"time_limit\": \"2020\",\n",
      "      \"funding\": null\n",
      "    },\n",
      "    {\n",
      "      \"goal\": \"Ensure that all antibiotic prescriptions include a diagnostic code.\",\n",
      "      \"metric\": null,\n",
      "      \"steps\": [\"Introduce regulatory requirements\", \"Optimize prescription software\"],\n",
      "      \"agent\": [\"Health Directorate\", \"Pharmacists\"],\n",
      "      \"time_limit\": \"2020\",\n",
      "      \"funding\": null\n",
      "    },\n",
      "    {\n",
      "      \"goal\": \"Establish alternative treatment strategies through new diagnostic methods development.\",\n",
      "      \"metric\": null,\n",
      "      \"steps\": [\"Participate in international research\", \"Develop new tools and techniques\"],\n",
      "      \"agent\": [\"Research organizations\"],\n",
      "      \"time_limit\": \"2020\",\n",
      "      \"funding\": null\n",
      "    }\n",
      "  ]\n",
      "}\n"
     ]
    }
   ],
   "source": [
    "response = client.chat.completions.create(\n",
    "    model=\"gpt-4o\",\n",
    "    response_format={\"type\":\"json_object\"},\n",
    "    messages=[\n",
    "        {\"role\": \"system\", \"content\": \"\"\"\n",
    "\n",
    "         You are an assistant that extract and summarizes national action plans for antimicrobial resistance. Be concise and rely only on the text content.\n",
    "\n",
    "         Your task is to identify every actionable policy goal in the document and summarize them in JSON format.\n",
    "\n",
    "         For each goal, you must put your findings in this JSON structure. Every policy goal should look like this. If any of the fields are not applicable, mark them as null:\n",
    "\n",
    "            policies = [\n",
    "            {\n",
    "                \"goal\": the specific policy goat set out,\n",
    "                \"metric\": the metric used to measure the policy goal,\n",
    "                \"steps\": a list specific steps set out to achieve the policy goal,\n",
    "                \"agent\": a list of agents responsible for the policy goal,\n",
    "                \"time_limit\" : the time limit set for the policy goal,\n",
    "                \"funding\": any funding allocated to the achievement policy goal and how it is denoted,\n",
    "            }\n",
    "         ]\n",
    "\n",
    "        \n",
    "         \n",
    "         \"\"\"},\n",
    "        {\"role\": \"user\", \"content\": country_test}\n",
    "    ]\n",
    ")\n",
    "\n",
    "print(response.choices[0].message.content)"
   ]
  },
  {
   "cell_type": "code",
   "execution_count": 14,
   "metadata": {},
   "outputs": [
    {
     "data": {
      "text/plain": [
       "CompletionUsage(completion_tokens=1255, prompt_tokens=15948, total_tokens=17203, completion_tokens_details=CompletionTokensDetails(accepted_prediction_tokens=0, audio_tokens=0, reasoning_tokens=0, rejected_prediction_tokens=0), prompt_tokens_details=PromptTokensDetails(audio_tokens=0, cached_tokens=0))"
      ]
     },
     "execution_count": 14,
     "metadata": {},
     "output_type": "execute_result"
    }
   ],
   "source": [
    "# see how many tokens that last query used\n",
    "response.usage"
   ]
  },
  {
   "cell_type": "markdown",
   "metadata": {},
   "source": [
    "#### * Asking OpenAI -- Example: Chile ||| Question: Period for NAP"
   ]
  },
  {
   "cell_type": "code",
   "execution_count": 8,
   "metadata": {},
   "outputs": [],
   "source": [
    "country_test = chile # TO CHANGE FOR TESTING"
   ]
  },
  {
   "cell_type": "code",
   "execution_count": 26,
   "metadata": {},
   "outputs": [
    {
     "name": "stdout",
     "output_type": "stream",
     "text": [
      "{\n",
      "    \"country\": \"Chile\",\n",
      "    \"period_start\": 2021,\n",
      "    \"period_end\": 2025\n",
      "}\n"
     ]
    }
   ],
   "source": [
    "prompt = \"\"\"From this National Action Plan, extract the period considered for the National Action Plan and return it in a structured JSON format.\n",
    "The response **must** follow this exact JSON structure:\n",
    "{\n",
    "    \"country\": \"Name of country as string\",\n",
    "    \"period_start\": \"The year when starts the period as numeric\",\n",
    "    \"period_end\": \"The year when ends the period as numeric\"\n",
    "}\n",
    "\n",
    "National Action Plan:\"\"\"\n",
    "\n",
    "response = client.chat.completions.create(\n",
    "    model=\"gpt-4o-mini\",\n",
    "    response_format={\"type\":\"json_object\"},\n",
    "    messages=[\n",
    "        {\"role\": \"system\", \"content\": \"\"\"\n",
    "         You are an assistant that extract and summarizes national action plans for antimicrobial resistance. Be concise and rely only on the text content.\n",
    "         \"\"\"},\n",
    "        {\"role\": \"user\", \"content\": prompt + country_test},\n",
    "    ]\n",
    ")\n",
    "\n",
    "# Print the JSON response\n",
    "print(response.choices[0].message.content)"
   ]
  },
  {
   "cell_type": "code",
   "execution_count": 18,
   "metadata": {},
   "outputs": [
    {
     "data": {
      "text/plain": [
       "CompletionUsage(completion_tokens=28, prompt_tokens=22457, total_tokens=22485, completion_tokens_details=CompletionTokensDetails(accepted_prediction_tokens=0, audio_tokens=0, reasoning_tokens=0, rejected_prediction_tokens=0), prompt_tokens_details=PromptTokensDetails(audio_tokens=0, cached_tokens=0))"
      ]
     },
     "execution_count": 18,
     "metadata": {},
     "output_type": "execute_result"
    }
   ],
   "source": [
    "# see how many tokens that last query used\n",
    "response.usage"
   ]
  },
  {
   "cell_type": "code",
   "execution_count": 12,
   "metadata": {},
   "outputs": [
    {
     "name": "stdout",
     "output_type": "stream",
     "text": [
      "```json\n",
      "{\n",
      "    \"policies\": [\n",
      "        {\n",
      "            \"goal\": \"Fortalecer la concientización y la formación respecto a la RAM en la comunidad en general y en grupos específicos.\",\n",
      "            \"metric\": null,\n",
      "            \"steps\": [\n",
      "                \"Desarrollar e implementar estrategias comunicacionales educativas dirigidas a la comunidad.\",\n",
      "                \"Promover en las y los docentes la incorporación de las temáticas de resistencia y uso prudente y responsable de los antimicrobianos en ámbitos educacionales.\",\n",
      "                \"Generar instancias para la creación, actualización y perfeccionamiento de conocimientos y competencias sobre RAM en prescriptores y otros profesionales.\",\n",
      "                \"Generar instancias de capacitación locales para profesionales de la salud en relación con el control de infecciones, el uso de antimicrobianos y la RAM.\"\n",
      "            ],\n",
      "            \"agent\": [\n",
      "                \"Ministerio de Salud\",\n",
      "                \"Ministerio de Educación\"\n",
      "            ],\n",
      "            \"time_limit\": null,\n",
      "            \"funding\": null\n",
      "        },\n",
      "        {\n",
      "            \"goal\": \"Fortalecer el sistema nacional de vigilancia de la resistencia a los antimicrobianos.\",\n",
      "            \"metric\": null,\n",
      "            \"steps\": [\n",
      "                \"Desarrollar un sistema de vigilancia integrada sobre RAM en microorganismos seleccionados.\",\n",
      "                \"Fortalecer el sistema de monitoreo de Agentes con Resistencia a los Antimicrobianos de Importancia en Salud Pública.\",\n",
      "                \"Fortalecer la vigilancia de la tuberculosis resistente.\",\n",
      "                \"Fortalecer la vigilancia de la resistencia en microorganismos causantes de infecciones de transmisión sexual.\"\n",
      "            ],\n",
      "            \"agent\": [\n",
      "                \"Ministerio de Salud\",\n",
      "                \"Instituto de Salud Pública\"\n",
      "            ],\n",
      "            \"time_limit\": null,\n",
      "            \"funding\": null\n",
      "        },\n",
      "        {\n",
      "            \"goal\": \"Prevenir y controlar las infecciones asociadas a la salud humana y a la sanidad vegetal y animal.\",\n",
      "            \"metric\": null,\n",
      "            \"steps\": [\n",
      "                \"Prevenir las Infecciones Asociadas a la Atención de Salud (IAAS) y la diseminación de la resistencia antimicrobiana.\",\n",
      "                \"Prevenir las infecciones en ambientes comunitarios.\",\n",
      "                \"Prevenir infecciones producidas por microorganismos específicos.\",\n",
      "                \"Controlar las infecciones en establecimientos de larga estadía para adultos mayores.\",\n",
      "                \"Incorporar medidas regulatorias en relación con la disposición final de residuos que contengan antimicrobianos.\",\n",
      "                \"Prevenir y controlar infecciones en la producción animal.\",\n",
      "                \"Prevenir y controlar infecciones en animales de compañía.\",\n",
      "                \"Prevenir y controlar infecciones en vegetales.\"\n",
      "            ],\n",
      "            \"agent\": [\n",
      "                \"Ministerio de Salud\",\n",
      "                \"Ministerio de Agricultura\"\n",
      "            ],\n",
      "            \"time_limit\": null,\n",
      "            \"funding\": null\n",
      "        },\n",
      "        {\n",
      "            \"goal\": \"Regular y vigilar el uso de los antimicrobianos.\",\n",
      "            \"metric\": null,\n",
      "            \"steps\": [\n",
      "                \"Regular el uso de antimicrobianos en las personas.\",\n",
      "                \"Fortalecer los instrumentos regulatorios para disminuir el uso de antimicrobianos en animales de producción.\",\n",
      "                \"Regular el uso de antimicrobianos en animales de compañía.\",\n",
      "                \"Regular el uso de antimicrobianos en agricultura.\",\n",
      "                \"Monitorear el consumo de antimicrobianos.\"\n",
      "            ],\n",
      "            \"agent\": [\n",
      "                \"Ministerio de Salud\",\n",
      "                \"Ministerio de Agricultura\"\n",
      "            ],\n",
      "            \"time_limit\": null,\n",
      "            \"funding\": null\n",
      "        },\n",
      "        {\n",
      "            \"goal\": \"Mejorar el acceso a la información y fomentar la investigación relacionada con la RAM.\",\n",
      "            \"metric\": null,\n",
      "            \"steps\": [\n",
      "                \"Mejorar el acceso a la información sobre RAM.\",\n",
      "                \"Promover la investigación científica y tecnológica en RAM.\",\n",
      "                \"Desarrollar investigación en resistencia de microorganismos específicos.\",\n",
      "                \"Desarrollar investigación sobre microorganismos ambientales en relación a la RAM.\"\n",
      "            ],\n",
      "            \"agent\": [\n",
      "                \"Ministerio de Ciencia, Tecnología, Conocimiento e Innovación\"\n",
      "            ],\n",
      "            \"time_limit\": null,\n",
      "            \"funding\": null\n",
      "        }\n",
      "    ]\n",
      "}\n",
      "```\n"
     ]
    }
   ],
   "source": [
    "# RUNNING THE PROMPT\n",
    "messages = [\n",
    "        {\"role\": \"system\", \"content\": \"\"\"\n",
    "\n",
    "         You are an assistant that extract and summarizes national action plans for antimicrobial resistance. Be concise and rely only on the text content.\n",
    "\n",
    "         Your task is to identify every actionable policy goal in the document and summarize them in JSON format.\n",
    "\n",
    "         For each goal, you must put your findings in this JSON structure. Every policy goal should look like this. If any of the fields are not applicable, mark them as null:\n",
    "\n",
    "            policies = [\n",
    "            {\n",
    "                \"goal\": the policy goal set out,\n",
    "                \"metric\": the metric used to measure the policy goal,\n",
    "                \"steps\": a list specific steps or specific policies set out to achieve the policy goal,\n",
    "                \"agent\": a list of agents responsible for the policy goal,\n",
    "                \"time_limit\" : the time limit set for the specific policy goal beyond the general time limit of the document,\n",
    "                \"funding\": any funding allocated to the achievement policy goal and how it is denoted,\n",
    "            }\n",
    "         ]\n",
    "         \"\"\"},\n",
    "    ]\n",
    "\n",
    "response = client.chat.completions.create(\n",
    "    model=\"gpt-4o-mini\",\n",
    "    temperature=0.2,\n",
    "    messages=messages + [{\"role\": \"assistant\", \"content\": country_test}])\n",
    "\n",
    "print(response.choices[0].message.content)"
   ]
  },
  {
   "cell_type": "markdown",
   "metadata": {},
   "source": [
    "### 2. Using CHUNKS and embedding strategy"
   ]
  },
  {
   "cell_type": "markdown",
   "metadata": {},
   "source": [
    "#### _Setting Functions_"
   ]
  },
  {
   "cell_type": "code",
   "execution_count": 5,
   "metadata": {},
   "outputs": [],
   "source": [
    "# FUNCTION: Chunk the markdown\n",
    "def chunk_markdown(md_text, max_chars=3000):\n",
    "    \"\"\"Chunks some markdown by adding new lines until exceeding max_chars.\n",
    "       Each chunk includes the last line of the previous chunk.\"\"\"\n",
    "\n",
    "    lines = md_text.split(\"\\n\")  # Split into lines\n",
    "    chunks = []\n",
    "    current_chunk = []\n",
    "    current_length = 0\n",
    "\n",
    "    for i, line in enumerate(lines):\n",
    "        # Always include the previous line for context\n",
    "        if i > 0 and current_length + len(line) > max_chars:\n",
    "            chunks.append(\"\\n\".join(current_chunk))  # Save the current chunk\n",
    "            current_chunk = [lines[i-1]]  # Start new chunk with the preceding line\n",
    "            current_length = len(lines[i-1])  # Reset length tracker\n",
    "\n",
    "        current_chunk.append(line)\n",
    "        current_length += len(line) + 1  # +1 for the newline character\n",
    "\n",
    "    # Add the last chunk\n",
    "    if current_chunk:\n",
    "        chunks.append(\"\\n\".join(current_chunk))\n",
    "\n",
    "    return chunks"
   ]
  },
  {
   "cell_type": "code",
   "execution_count": 6,
   "metadata": {},
   "outputs": [],
   "source": [
    "# Embedding\n",
    "def get_embedding(text, model=\"text-embedding-3-small\"):\n",
    "    text = text.replace(\"\\n\", \" \")\n",
    "    return client.embeddings.create(input = [text], model=model).data[0].embedding"
   ]
  },
  {
   "cell_type": "markdown",
   "metadata": {},
   "source": [
    "#### * Asking OpenAI -- Example: Chile"
   ]
  },
  {
   "cell_type": "code",
   "execution_count": 7,
   "metadata": {},
   "outputs": [],
   "source": [
    "country_test = chile # TO CHANGE FOR TESTING\n",
    "country_name = \"chile\" # For filenames"
   ]
  },
  {
   "cell_type": "markdown",
   "metadata": {},
   "source": [
    "##### _Chuncking and embedding process (for NAP and the question)_"
   ]
  },
  {
   "cell_type": "code",
   "execution_count": 11,
   "metadata": {},
   "outputs": [
    {
     "name": "stdout",
     "output_type": "stream",
     "text": [
      "........................................."
     ]
    }
   ],
   "source": [
    "# Chunking the markdown\n",
    "chunks = chunk_markdown(country_test, max_chars=3000)\n",
    "\n",
    "# Embedding\n",
    "chunks_with_embeddings = []\n",
    "\n",
    "for i, chunk in enumerate(chunks):\n",
    "    print(f\".\", end=\"\")\n",
    "    embedding = get_embedding(chunk)\n",
    "    chunks_with_embeddings.append({\"chunk\": i, \"text\": chunk, \"embedding\": embedding})\n",
    "\n",
    "# Exporting and saving\n",
    "save_path = f\"../data/4-chunks/{country_name}_chunks_with_embeddings.pkl\"\n",
    "\n",
    "with open(save_path, \"wb\") as f: # it's always good to save the data you've received\n",
    "    pickle.dump(chunks_with_embeddings, f)\n",
    "\n",
    "globals()[f\"{country_name}_chunks_with_embeddings\"] = chunks_with_embeddings # Saving as independent object"
   ]
  },
  {
   "cell_type": "markdown",
   "metadata": {},
   "source": [
    "**_(1) Question: Period for NAP_**"
   ]
  },
  {
   "cell_type": "code",
   "execution_count": 12,
   "metadata": {},
   "outputs": [],
   "source": [
    "# MAIN QUESTION TO EMBED (No include the whole prompt. Focus on the key words to find \"close\" chunks)\n",
    "question = \"Cuál es el periodo de tiempo del plan?\" # TO CHANGE (in Spanish for embedding)"
   ]
  },
  {
   "cell_type": "code",
   "execution_count": 14,
   "metadata": {},
   "outputs": [
    {
     "data": {
      "text/plain": [
       "[24, 20, 3]"
      ]
     },
     "execution_count": 14,
     "metadata": {},
     "output_type": "execute_result"
    }
   ],
   "source": [
    "# LOOKING FOR THE RELATED CHUNKS\n",
    "\n",
    "# Embedding the question\n",
    "question_embedding = get_embedding(question)\n",
    "\n",
    "# Retrieve the object using the country_name string\n",
    "chunks_with_embeddings = pd.read_pickle(f\"../data/4-chunks/{country_name}_chunks_with_embeddings.pkl\")\n",
    "\n",
    "# Define the Annoy index - the index is the data structure that will store the embeddings\n",
    "embedding_dim = len(chunks_with_embeddings[0][\"embedding\"])  # Get vector size\n",
    "annoy_index = AnnoyIndex(embedding_dim, \"angular\")  # Angular distance for similarity\n",
    "\n",
    "# Add chunks to Annoy index\n",
    "for item in chunks_with_embeddings:\n",
    "    annoy_index.add_item(item[\"chunk\"], item[\"embedding\"])\n",
    "\n",
    "# Build the index (the argument is the number of 'trees' - more trees = more accurate but slower)\n",
    "annoy_index.build(10)\n",
    "\n",
    "# Find the most similar chunk to the question\n",
    "n_nearest = 3\n",
    "nearest_chunks = annoy_index.get_nns_by_vector(question_embedding, n_nearest, search_k=-1, include_distances=False)\n",
    "\n",
    "nearest_chunks"
   ]
  },
  {
   "cell_type": "code",
   "execution_count": 23,
   "metadata": {},
   "outputs": [
    {
     "name": "stdout",
     "output_type": "stream",
     "text": [
      "{\n",
      "    \"answer_contained\": true,\n",
      "    \"period_start\": 2021,\n",
      "    \"period_end\": 2025,\n",
      "    \"evidence\": \"El Plan Nacional contra la Resistencia a los Antimicrobianos 2021 - 2025\"\n",
      "}\n",
      "{\n",
      "    \"answer_contained\": true,\n",
      "    \"period_start\": 2021,\n",
      "    \"period_end\": 2025,\n",
      "    \"evidence\": \"se da por terminada la elaboración del documento y se envía para la aprobación de las autoridades.\"\n",
      "}\n",
      "```json\n",
      "{\n",
      "    \"answer_contained\": true,\n",
      "    \"period_start\": 2021,\n",
      "    \"period_end\": 2025,\n",
      "    \"evidence\": \"Lineamientos estratégicos para el periodo 2021- 2025\"\n",
      "}\n",
      "```\n"
     ]
    }
   ],
   "source": [
    "# RUNNING THE PROMPT\n",
    "messages = [\n",
    "    {\"role\": \"system\", \"content\": '''\n",
    "     You are an assistant that summarizes national action plans for antimicrobial resistance. Be concise and rely only on the text content.\n",
    "\n",
    "     For this part of the National Action Plan, extract the period considered for the National Action Plan and return it in a structured JSON format:\n",
    "\n",
    "     The response **must** follow this exact JSON structure:\n",
    "    {\n",
    "        \"answer_contained\": bool, whether the text contains enough information to confidently answer the question,\n",
    "        \"period_start\": \"The year when starts the period as numeric\",\n",
    "        \"period_end\": \"The year when ends the period as numeric\",\n",
    "        \"evidence\": str, a direct quote from the report that supports your answer\n",
    "    }\n",
    "     '''},\n",
    "]\n",
    "\n",
    "responses = []\n",
    "\n",
    "for i, chunk in enumerate(nearest_chunks):\n",
    "    response = client.chat.completions.create(\n",
    "        model=\"gpt-4o-mini\",\n",
    "        messages=messages + [{\"role\": \"assistant\", \"content\": chunks[chunk]}]\n",
    "    )\n",
    "    print(response.choices[0].message.content)"
   ]
  },
  {
   "cell_type": "markdown",
   "metadata": {},
   "source": [
    "**_(2) Question: Goals_**"
   ]
  },
  {
   "cell_type": "code",
   "execution_count": 52,
   "metadata": {},
   "outputs": [],
   "source": [
    "# MAIN QUESTION TO EMBED \n",
    "question = \"Cuáles son los objetivos generales de política, indicadores para medir los objetivos, pasos o objetivos específicos para alcanzar los objetivos, las instituciones o areas responsables de los objetivos, el periodo de tiempo para los objetivos específicos y recursos financieros destinados a los objetivos?\" # TO CHANGE (in Spanish for embedding)"
   ]
  },
  {
   "cell_type": "code",
   "execution_count": 54,
   "metadata": {},
   "outputs": [
    {
     "data": {
      "text/plain": [
       "[32, 34, 3, 24, 40, 29, 5, 4, 22, 30, 26, 21, 27, 35, 6]"
      ]
     },
     "execution_count": 54,
     "metadata": {},
     "output_type": "execute_result"
    }
   ],
   "source": [
    "# LOOKING FOR THE RELATED CHUNKS\n",
    "\n",
    "# Embedding the question\n",
    "question_embedding = get_embedding(question)\n",
    "\n",
    "# Retrieve the object using the country_name string\n",
    "chunks_with_embeddings = pd.read_pickle(f\"../data/4-chunks/{country_name}_chunks_with_embeddings.pkl\")\n",
    "\n",
    "# Define the Annoy index - the index is the data structure that will store the embeddings\n",
    "embedding_dim = len(chunks_with_embeddings[0][\"embedding\"])  # Get vector size\n",
    "annoy_index = AnnoyIndex(embedding_dim, \"angular\")  # Angular distance for similarity\n",
    "\n",
    "# Add chunks to Annoy index\n",
    "for item in chunks_with_embeddings:\n",
    "    annoy_index.add_item(item[\"chunk\"], item[\"embedding\"])\n",
    "\n",
    "# Build the index (the argument is the number of 'trees' - more trees = more accurate but slower)\n",
    "annoy_index.build(10)\n",
    "\n",
    "# Find the most similar chunk to the question\n",
    "n_nearest = 15\n",
    "nearest_chunks = annoy_index.get_nns_by_vector(question_embedding, n_nearest, search_k=-1, include_distances=False)\n",
    "\n",
    "subset_chunks_text = \"\\n#CHUNK OF THE DOCUMENT...\\n\".join([chunks[i] for i in nearest_chunks])\n",
    "\n",
    "nearest_chunks"
   ]
  },
  {
   "cell_type": "code",
   "execution_count": 55,
   "metadata": {},
   "outputs": [
    {
     "name": "stdout",
     "output_type": "stream",
     "text": [
      "```json\n",
      "{\n",
      "    \"policies\": [\n",
      "        {\n",
      "            \"goal\": \"Prevenir las Infecciones Asociadas a la Atención de Salud (IAAS) y la diseminación de la resistencia antimicrobiana con potencial epidémico en los establecimientos de salud\",\n",
      "            \"metric\": null,\n",
      "            \"steps\": [\n",
      "                \"Fortalecimiento del Programa Nacional de Control de Infecciones Asociadas a la Atención de Salud (IAAS) en hospitales.\",\n",
      "                \"Implementación de medidas de prevención y control en establecimientos de salud de atención abierta.\"\n",
      "            ],\n",
      "            \"agent\": [\n",
      "                \"Ministerio de Salud\",\n",
      "                \"Programa Nacional de Control de Infecciones Asociadas a la Atención de Salud\"\n",
      "            ],\n",
      "            \"time_limit\": null,\n",
      "            \"funding\": null\n",
      "        },\n",
      "        {\n",
      "            \"goal\": \"Prevenir las infecciones en ambientes comunitarios\",\n",
      "            \"metric\": null,\n",
      "            \"steps\": [\n",
      "                \"Mejorar el acceso al agua potable y condiciones de saneamiento básico en áreas rurales.\",\n",
      "                \"Vigilancia de la calidad del agua potable.\",\n",
      "                \"Mejorar los sistemas de eliminación de basura.\"\n",
      "            ],\n",
      "            \"agent\": [\n",
      "                \"Ministerio de Salud\",\n",
      "                \"Ministerio de Medio Ambiente\"\n",
      "            ],\n",
      "            \"time_limit\": null,\n",
      "            \"funding\": null\n",
      "        },\n",
      "        {\n",
      "            \"goal\": \"Incorporar medidas regulatorias en relación con la disposición final de residuos que contengan antimicrobianos\",\n",
      "            \"metric\": null,\n",
      "            \"steps\": [\n",
      "                \"Reforzar la regulación de residuos peligrosos que contengan antimicrobianos.\",\n",
      "                \"Incorporar medicamentos desechados bajo responsabilidad extendida del productor.\"\n",
      "            ],\n",
      "            \"agent\": [\n",
      "                \"Ministerio de Salud\",\n",
      "                \"Ministerio del Medio Ambiente\"\n",
      "            ],\n",
      "            \"time_limit\": null,\n",
      "            \"funding\": null\n",
      "        },\n",
      "        {\n",
      "            \"goal\": \"Prevenir y controlar infecciones en la producción animal\",\n",
      "            \"metric\": null,\n",
      "            \"steps\": [\n",
      "                \"Promover el bienestar animal y buenas prácticas ganaderas.\",\n",
      "                \"Fortalecer capacidades diagnósticas en animales de producción.\"\n",
      "            ],\n",
      "            \"agent\": [\n",
      "                \"Ministerio de Agricultura\",\n",
      "                \"Servicio Agrícola y Ganadero\"\n",
      "            ],\n",
      "            \"time_limit\": null,\n",
      "            \"funding\": null\n",
      "        },\n",
      "        {\n",
      "            \"goal\": \"Regulación del uso de antimicrobianos en animales de compañía\",\n",
      "            \"metric\": null,\n",
      "            \"steps\": [\n",
      "                \"Elaborar y difundir normas nacionales sobre tratamientos de infecciones en animales pequeños.\",\n",
      "                \"Regular el almacenamiento y disposición de fármacos en botiquines y farmacias veterinarias.\"\n",
      "            ],\n",
      "            \"agent\": [\n",
      "                \"Ministerio de Salud\",\n",
      "                \"Ministerio de Agricultura\"\n",
      "            ],\n",
      "            \"time_limit\": null,\n",
      "            \"funding\": null\n",
      "        },\n",
      "        {\n",
      "            \"goal\": \"Monitorear el consumo de antimicrobianos\",\n",
      "            \"metric\": \"Sistemas de monitoreo implementados\",\n",
      "            \"steps\": [\n",
      "                \"Implementar un sistema de monitoreo del consumo de antimicrobianos en humanos y animales.\",\n",
      "                \"Desarrollar reportes de consumo de antimicrobianos en diferentes sectores.\"\n",
      "            ],\n",
      "            \"agent\": [\n",
      "                \"Ministerio de Salud\",\n",
      "                \"Instituto de Salud Pública\"\n",
      "            ],\n",
      "            \"time_limit\": null,\n",
      "            \"funding\": null\n",
      "        },\n",
      "        {\n",
      "            \"goal\": \"Regular el uso de antimicrobianos en personas\",\n",
      "            \"metric\": null,\n",
      "            \"steps\": [\n",
      "                \"Avanzar en la regulación de la prescripción en la Atención Primaria.\",\n",
      "                \"Controlar el expendio de antimicrobianos en lugares no autorizados.\"\n",
      "            ],\n",
      "            \"agent\": [\n",
      "                \"Ministerio de Salud\"\n",
      "            ],\n",
      "            \"time_limit\": null,\n",
      "            \"funding\": null\n",
      "        },\n",
      "        {\n",
      "            \"goal\": \"Fortalecer el sistema nacional de vigilancia de la resistencia a los antimicrobianos\",\n",
      "            \"metric\": null,\n",
      "            \"steps\": [\n",
      "                \"Desarrollar un sistema de vigilancia integrada sobre RAM.\",\n",
      "                \"Fortalecer la vigilancia de laboratorio en relación con la RAM.\"\n",
      "            ],\n",
      "            \"agent\": [\n",
      "                \"Ministerio de Salud\",\n",
      "                \"Instituto de Salud Pública\"\n",
      "            ],\n",
      "            \"time_limit\": null,\n",
      "            \"funding\": null\n",
      "        },\n",
      "        {\n",
      "            \"goal\": \"Mejorar el acceso a la información y fomentar la investigación relacionada con la RAM\",\n",
      "            \"metric\": null,\n",
      "            \"steps\": [\n",
      "                \"Crear un repositorio de información sobre RAM.\",\n",
      "                \"Promover la investigación científica y tecnológica en RAM.\"\n",
      "            ],\n",
      "            \"agent\": [\n",
      "                \"Ministerio de Educación\",\n",
      "                \"Ministerio de Ciencia, Tecnología, Conocimiento e Innovación\"\n",
      "            ],\n",
      "            \"time_limit\": null,\n",
      "            \"funding\": null\n",
      "        }\n",
      "    ]\n",
      "}\n",
      "```\n"
     ]
    }
   ],
   "source": [
    "# RUNNING THE PROMPT\n",
    "messages = [\n",
    "        {\"role\": \"system\", \"content\": \"\"\"\n",
    "\n",
    "         You are an assistant that extract and summarizes national action plans for antimicrobial resistance. Be concise and rely only on the text content.\n",
    "\n",
    "         Your task is to identify every actionable policy goal in the document and summarize them in JSON format.\n",
    "\n",
    "         For each goal, you must put your findings in this JSON structure. Every policy goal should look like this. If any of the fields are not applicable, mark them as null:\n",
    "\n",
    "            policies = [\n",
    "            {\n",
    "                \"goal\": the specific policy goal set out,\n",
    "                \"metric\": the metric used to measure the policy goal,\n",
    "                \"steps\": a list specific steps set out to achieve the policy goal,\n",
    "                \"agent\": a list of agents responsible for the policy goal,\n",
    "                \"time_limit\" : the time limit set for the specific policy goal beyond the general time limit of the document,\n",
    "                \"funding\": any funding allocated to the achievement policy goal and how it is denoted,\n",
    "            }\n",
    "         ]\n",
    "         \"\"\"},\n",
    "    ]\n",
    "\n",
    "response = client.chat.completions.create(\n",
    "    model=\"gpt-4o-mini\",\n",
    "    messages=messages + [{\"role\": \"assistant\", \"content\": subset_chunks_text}])\n",
    "\n",
    "print(response.choices[0].message.content)"
   ]
  },
  {
   "cell_type": "markdown",
   "metadata": {},
   "source": [
    "**_(3) Question: Progress report_**"
   ]
  },
  {
   "cell_type": "code",
   "execution_count": 59,
   "metadata": {},
   "outputs": [],
   "source": [
    "# MAIN QUESTION TO EMBED (No include the whole prompt. Focus on the key words to find \"close\" chunks)\n",
    "question = \"Existe alguna revisión periódica o reporte de progreso para monitorear la implementación de los objetivos planteados?\" #(in Spanish for embedding)"
   ]
  },
  {
   "cell_type": "code",
   "execution_count": 60,
   "metadata": {},
   "outputs": [
    {
     "data": {
      "text/plain": [
       "[27, 20, 3, 4, 15, 29, 26, 32, 31, 34, 16, 24, 5, 35, 30]"
      ]
     },
     "execution_count": 60,
     "metadata": {},
     "output_type": "execute_result"
    }
   ],
   "source": [
    "# LOOKING FOR THE RELATED CHUNKS\n",
    "\n",
    "# Embedding the question\n",
    "question_embedding = get_embedding(question)\n",
    "\n",
    "# Retrieve the object using the country_name string\n",
    "chunks_with_embeddings = pd.read_pickle(f\"../data/4-chunks/{country_name}_chunks_with_embeddings.pkl\")\n",
    "\n",
    "# Define the Annoy index - the index is the data structure that will store the embeddings\n",
    "embedding_dim = len(chunks_with_embeddings[0][\"embedding\"])  # Get vector size\n",
    "annoy_index = AnnoyIndex(embedding_dim, \"angular\")  # Angular distance for similarity\n",
    "\n",
    "# Add chunks to Annoy index\n",
    "for item in chunks_with_embeddings:\n",
    "    annoy_index.add_item(item[\"chunk\"], item[\"embedding\"])\n",
    "\n",
    "# Build the index (the argument is the number of 'trees' - more trees = more accurate but slower)\n",
    "annoy_index.build(10)\n",
    "\n",
    "# Find the most similar chunk to the question\n",
    "n_nearest = 15\n",
    "nearest_chunks = annoy_index.get_nns_by_vector(question_embedding, n_nearest, search_k=-1, include_distances=False)\n",
    "\n",
    "subset_chunks_text = \"\\n#CHUNK OF THE DOCUMENT...\\n\".join([chunks[i] for i in nearest_chunks])\n",
    "\n",
    "nearest_chunks"
   ]
  },
  {
   "cell_type": "code",
   "execution_count": 61,
   "metadata": {},
   "outputs": [
    {
     "name": "stdout",
     "output_type": "stream",
     "text": [
      "```json\n",
      "{\n",
      "  \"reports\": [\n",
      "    {\n",
      "      \"report\": \"Evaluación de los avances y brechas respecto al Plan Nacional contra la Resistencia a los Antimicrobianos 2017 - 2020\",\n",
      "      \"frequency\": \"anual\",\n",
      "      \"agent\": [\"Mesa Intersectorial de RAM\", \"Ministerio de Salud\"]\n",
      "    },\n",
      "    {\n",
      "      \"report\": \"Reporte periódico de vigilancia de RAM\",\n",
      "      \"frequency\": \"periódico\",\n",
      "      \"agent\": [\"Comité científico-técnico\"]\n",
      "    }\n",
      "  ]\n",
      "}\n",
      "```\n"
     ]
    }
   ],
   "source": [
    "# RUNNING THE PROMPT\n",
    "messages = [\n",
    "        {\"role\": \"system\", \"content\": \"\"\"\n",
    "\n",
    "         You are an assistant that extract and summarizes national action plans for antimicrobial resistance. Be concise and rely only on the text content.\n",
    "\n",
    "         Your task is to identify regular reviews or progress reports planned for monitoring the implementation of the objectives and summarize them in JSON format.\n",
    "        \n",
    "         For every regular review or progress report, you must put your findings in this JSON structure. If there is not any regular review or progress report, mark them as null:\n",
    "\n",
    "            reports = [\n",
    "            {\n",
    "                \"report\": name of the regular review or progress report,\n",
    "                \"frequency\": the frequency of the regular review or progress report,\n",
    "                \"agent\": a list of agents responsible for the regular review or progress report,\n",
    "            }\n",
    "         ]\n",
    "         \"\"\"},\n",
    "    ]\n",
    "\n",
    "response = client.chat.completions.create(\n",
    "    model=\"gpt-4o-mini\",\n",
    "    messages=messages + [{\"role\": \"assistant\", \"content\": subset_chunks_text}])\n",
    "\n",
    "print(response.choices[0].message.content)"
   ]
  },
  {
   "cell_type": "markdown",
   "metadata": {},
   "source": []
  },
  {
   "cell_type": "code",
   "execution_count": null,
   "metadata": {},
   "outputs": [],
   "source": []
  }
 ],
 "metadata": {
  "kernelspec": {
   "display_name": "Python 3",
   "language": "python",
   "name": "python3"
  },
  "language_info": {
   "codemirror_mode": {
    "name": "ipython",
    "version": 3
   },
   "file_extension": ".py",
   "mimetype": "text/x-python",
   "name": "python",
   "nbconvert_exporter": "python",
   "pygments_lexer": "ipython3",
   "version": "3.10.10"
  }
 },
 "nbformat": 4,
 "nbformat_minor": 2
}

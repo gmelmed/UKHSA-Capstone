{
 "cells": [
  {
   "cell_type": "code",
   "execution_count": 4,
   "id": "f9b2c50b-eed9-4bbe-8fae-3681336f9028",
   "metadata": {},
   "outputs": [],
   "source": [
    "import json\n",
    "import requests # to download some resources\n",
    "import os # file operations\n",
    "import numpy as np # linear algebra\n",
    "import pandas as pd # data processing"
   ]
  },
  {
   "cell_type": "code",
   "execution_count": 45,
   "id": "9c7ac386-663c-4277-b442-5cb51c57b86d",
   "metadata": {},
   "outputs": [
    {
     "name": "stdout",
     "output_type": "stream",
     "text": [
      "Archivo Excel guardado en: ../data/6-performance/combined_data.xlsx\n"
     ]
    }
   ],
   "source": [
    "# Consolidating answers from the whole sample\n",
    "# Folder Path\n",
    "folder_json = f\"../data/4-summary-responses-json\"\n",
    "\n",
    "# Lista para almacenar los DataFrames\n",
    "dfs = []\n",
    "\n",
    "# Recorrer todos los archivos en la carpeta\n",
    "for file_name in os.listdir(folder_json):\n",
    "    if file_name.endswith(\".json\"):  # Filtrar solo JSONs\n",
    "        file_path = os.path.join(folder_json, file_name)  # Ruta completa del archivo\n",
    "        \n",
    "        # Cargar el JSON y convertirlo en DataFrame\n",
    "        df = pd.read_json(file_path)  # Aquí estaba el error\n",
    "        dfs.append(df)\n",
    "\n",
    "\n",
    "# Concatenar todos los DataFrames en uno solo\n",
    "combined_data = pd.concat(dfs, ignore_index=True)\n",
    "\n",
    "# Collapse by country and question\n",
    "combined_data = combined_data.groupby(['country', 'question'], as_index=False).agg({\n",
    "    'answer': lambda x: ', '.join(x.dropna().astype(str).tolist()),\n",
    "    'supporting_chunks': 'first',\n",
    "    'answer_full': 'first',\n",
    "    'supporting_text': 'first'\n",
    "})\n",
    "\n",
    "combined_data['question'] = combined_data['question'].astype(str)\n",
    "combined_data['country'] = combined_data['country'].astype(str)\n",
    "combined_data = combined_data.rename(columns={\"answer\": \"answer_chunking\"})\n",
    "combined_data = combined_data[~combined_data['question'].isin(['period_start', 'period_end'])]\n",
    "\n",
    "# Load the annotations\n",
    "annotations_df = pd.read_excel('../data/5-annotations/annotations.xlsx')\n",
    "annotations_df['question'] = annotations_df['question'].astype(str)\n",
    "annotations_df['answer'] = annotations_df['answer'].astype(str)\n",
    "\n",
    "# Joining with annotations\n",
    "combined_data = combined_data.merge(annotations_df, how='inner', on=['country', 'question'], suffixes=('', '_right'))\n",
    "\n",
    "output_path = f\"../data/6-performance/combined_data.xlsx\"  # Nombre del archivo Excel\n",
    "combined_data.to_excel(output_path, index=False)\n",
    "\n",
    "print(f\"Archivo Excel guardado en: {output_path}\")\n"
   ]
  }
 ],
 "metadata": {
  "kernelspec": {
   "display_name": "Python 3 (ipykernel)",
   "language": "python",
   "name": "python3"
  },
  "language_info": {
   "codemirror_mode": {
    "name": "ipython",
    "version": 3
   },
   "file_extension": ".py",
   "mimetype": "text/x-python",
   "name": "python",
   "nbconvert_exporter": "python",
   "pygments_lexer": "ipython3",
   "version": "3.13.1"
  }
 },
 "nbformat": 4,
 "nbformat_minor": 5
}

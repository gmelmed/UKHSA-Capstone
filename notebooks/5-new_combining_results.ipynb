{
 "cells": [
  {
   "cell_type": "code",
   "execution_count": 3,
   "id": "f9b2c50b-eed9-4bbe-8fae-3681336f9028",
   "metadata": {},
   "outputs": [],
   "source": [
    "import json\n",
    "import requests # to download some resources\n",
    "import os # file operations\n",
    "import numpy as np # linear algebra\n",
    "import pandas as pd # data processing"
   ]
  },
  {
   "cell_type": "code",
   "execution_count": 4,
   "id": "9c7ac386-663c-4277-b442-5cb51c57b86d",
   "metadata": {},
   "outputs": [
    {
     "name": "stdout",
     "output_type": "stream",
     "text": [
      "Archivo Excel guardado en: ../data/6-performance/combined_data_new.xlsx\n"
     ]
    }
   ],
   "source": [
    "# Consolidating answers from the whole sample\n",
    "# Folder Path\n",
    "folder_json = f\"../data/4-summary-responses-json/version_yesno_updated\"\n",
    "\n",
    "# Lista para almacenar los DataFrames\n",
    "dfs = []\n",
    "\n",
    "# Recorrer todos los archivos en la carpeta\n",
    "for file_name in os.listdir(folder_json):\n",
    "    if file_name.endswith(\".json\"):  # Filtrar solo JSONs\n",
    "        file_path = os.path.join(folder_json, file_name)  # Ruta completa del archivo\n",
    "        \n",
    "        # Cargar el JSON y convertirlo en DataFrame\n",
    "        df = pd.read_json(file_path)  # Aquí estaba el error\n",
    "        dfs.append(df)\n",
    "\n",
    "\n",
    "# Concatenar todos los DataFrames en uno solo\n",
    "combined_data = pd.concat(dfs, ignore_index=True)\n",
    "\n",
    "# Collapse by country and question\n",
    "combined_data = combined_data.groupby(['country', 'question'], as_index=False).agg({\n",
    "    'answer': lambda x: ', '.join(x.dropna().astype(str).tolist()),\n",
    "    'supporting_chunks': 'first',\n",
    "    'answer_full': 'first',\n",
    "    'supporting_text': 'first'\n",
    "})\n",
    "\n",
    "combined_data['question'] = combined_data['question'].astype(str)\n",
    "combined_data['country'] = combined_data['country'].astype(str)\n",
    "combined_data = combined_data.rename(columns={\"answer\": \"answer_chunking\"})\n",
    "combined_data = combined_data[~combined_data['question'].isin(['period_start', 'period_end'])]\n",
    "\n",
    "# Load the annotations\n",
    "annotations_df = pd.read_excel('../data/5-annotations/annotations_new.xlsx')\n",
    "annotations_df['question'] = annotations_df['question'].astype(str)\n",
    "annotations_df['answer'] = annotations_df['answer'].astype(str)\n",
    "\n",
    "# Joining with annotations\n",
    "combined_data = combined_data.merge(annotations_df, how='inner', on=['country', 'question'], suffixes=('', '_right'))\n",
    "\n",
    "output_path = f\"../data/6-performance/combined_data_new.xlsx\"  # Nombre del archivo Excel\n",
    "combined_data.to_excel(output_path, index=False)\n",
    "\n",
    "print(f\"Archivo Excel guardado en: {output_path}\")\n"
   ]
  },
  {
   "cell_type": "code",
   "execution_count": 5,
   "id": "a44a1e58-5c6c-4dd6-b7d9-02020f9a1104",
   "metadata": {},
   "outputs": [
    {
     "data": {
      "application/vnd.microsoft.datawrangler.viewer.v0+json": {
       "columns": [
        {
         "name": "index",
         "rawType": "int64",
         "type": "integer"
        },
        {
         "name": "country",
         "rawType": "object",
         "type": "string"
        },
        {
         "name": "question",
         "rawType": "object",
         "type": "string"
        },
        {
         "name": "answer_chunking",
         "rawType": "object",
         "type": "string"
        },
        {
         "name": "supporting_chunks",
         "rawType": "object",
         "type": "unknown"
        },
        {
         "name": "answer_full",
         "rawType": "object",
         "type": "string"
        },
        {
         "name": "supporting_text",
         "rawType": "object",
         "type": "string"
        },
        {
         "name": "answer",
         "rawType": "object",
         "type": "string"
        },
        {
         "name": "comment_input_for_protocol",
         "rawType": "float64",
         "type": "float"
        },
        {
         "name": "supporting_text_when_true_answer_is_yes_but_prediction_is_no",
         "rawType": "float64",
         "type": "float"
        }
       ],
       "conversionMethod": "pd.DataFrame",
       "ref": "1c261b5d-7ce5-4417-9fe4-0e94534b6673",
       "rows": [
        [
         "0",
         "australia",
         "1",
         "yes",
         "['the 2020 Strategy and OHMAP emphasise the importance of tackling AMR through a One Health approach. This means working in a collaborative and coordinated manner across all levels of government and sectors.', 'The NAP addresses multiple priority sectors such as human health, animal health, environment, and agriculture/food security.', 'Create sustainable funding for combatting antimicrobial resistance based on evidence of economic and societal costs and benefits of different approaches in all sectors', 'Maintain and expand linkages and opportunities between stakeholders across all sectors to provide a nationally coordinated approach to combatting antimicrobial resistance', 'Maintain and expand linkages and opportunities between stakeholders across all sectors to provide a nationally coordinated approach to combatting antimicrobial resistance', 'PRIORITY AREAS 2.1 - 2.4 FOCUS AREAS 2.1.1 - 2.4.1', 'Adopt evidence-based and nationally consistent standards for infection prevention and control and biosecurity', 'Develop, implement and/or update national biosecurity and waste management standards and support resources and education for different animal and agricultural settings.', 'Work with key stakeholders in the major food- and fibre-producing animal industries to improve on-farm biosecurity measures so antimicrobial treatments are used appropriately.', 'Strengthen and assess the use of accreditation and/or quality assurance programs to better support the implementation of national biosecurity and/or IPC guidelines in the animal and human health sectors.', 'PRIORITY AREAS 3.1 - 3.4 FOCUS AREAS 3.1.1 - 3.4.5', 'Develop and implement a coordinated, One Health communication strategy, as well as monitoring and evaluation, to support whole-of-society awareness and behavioural change', 'Develop and implement a coordinated, One Health communication strategy, as well as monitoring and evaluation, to support whole-of-society awareness and behavioural change', 'Develop and implement a One Health communication strategy to raise awareness of the actions stakeholders can take to minimise the development and impacts of resistance.', 'Maintain and improve the One Health AMR website to ensure access to reliable and up-to-date information.', 'Drive education and training initiatives across all relevant sectors and increase accessibility to evidence-based best-practice information', 'Facilitate access to, and dissemination of, national infection prevention and control/biosecurity guidelines for human and animal health through various platforms including the One Health AMR website.', 'Facilitate access to, and dissemination of, national infection prevention and control/biosecurity guidelines for human and animal health through various platforms including the One Health AMR website.', 'PRIORITY AREAS 4.1 - 4.3 FOCUS AREAS 4.1.1 - 4.3.1', 'Develop and promote resources that support appropriate antimicrobial use for surgical prophylaxis and maintain consistency with national guidelines in human and animal health.', 'Develop and implement jurisdictional-specific initiatives to support antimicrobial stewardship in human health, animal health, food and agriculture settings.', 'Develop and implement jurisdictional-specific initiatives to support antimicrobial stewardship in human health, animal health, food and agriculture settings.', 'PRIORITY AREAS 4.1 - 4.3 addresses multiple priority sectors including Agriculture, Animal Health, Environment, Food, and Human Health.', 'Build monitoring, auditing and feedback processes into existing frameworks across relevant sectors.', 'PRIORITY AREAS 5.1 - 5.4 FOCUS AREAS 5.1.1 - 5.4.2', 'Create a sustainably funded national One Health surveillance system that integrates human, animal, food and environmental usage and resistance data', 'Create a sustainably funded national One Health surveillance system that integrates human, animal, food and environmental usage and resistance data', 'Develop a national surveillance plan, including the potential use of genomics, with sector-specific objectives to support the implementation of a national One Health surveillance system.', 'Develop and continue to improve mechanisms to provide and analyse data on antimicrobial resistance and usage across all sectors to the One Health surveillance system.', 'Improve understanding of antimicrobial use in all sectors to inform policy decision making.', 'Regularly review and promote the current list of priority organisms and associated antimicrobials for human and animal health surveillance and establish lists for other sectors as needed.', 'The NAP addresses multiple priority sectors including Agriculture, Animal Health, Environment, Food, and Human Health.', 'Set a flexible national antimicrobial resistance research and development agenda that strives for innovation', 'Improve the One Health AMR website as a national research and development hub that promotes stakeholder contribution, collaboration and coordination.', 'PRIORITY AREAS FOR ACTION 7.1 - 7.3 FOCUS AREAS 7.1.1 - 7.3.2', 'Develop curricula on antimicrobial resistance for use in low- and middle-income countries, with a One Health emphasis.', 'Develop curricula on antimicrobial resistance for use in low- and middle-income countries, with a One Health emphasis.', 'Participate in WHO, World Organisation for Animal Health, Food and Agriculture Organization of the United Nations, United Nations Environment Programme, Codex and other high-level and technical international forums to enhance global antimicrobial resistance policies and initiatives.', 'Support food safety initiatives involving AMR in the South East Asia and Pacific regions, recognising the importance of cross border trade and zoonotic disease.', 'Support food safety initiatives involving AMR in the South East Asia and Pacific regions, recognising the importance of cross border trade and zoonotic disease.', 'Contribute to global antimicrobial resistance surveillance and antimicrobial usage monitoring activities such as Global Antimicrobial Resistance Surveillance System; and initiatives of the Food and Agriculture Organization of the United Nations and World Organisation for Animal Health.', 'One Health: The principle of applying a collaborative and coordinated effort across multiple sectors working locally, nationally and globally - to attain optimal health for people, animals and the environment.']",
         "yes",
         "The NAP emphasises the importance of tackling AMR through a One Health approach.",
         "yes",
         null,
         null
        ],
        [
         "1",
         "australia",
         "2",
         "yes",
         "[\"The 2020 Strategy focuses on seven Objectives divided into Priority Areas for Action. This includes implementation partners developing 'short- to medium-term action plans' to show when and what they will do to tackle AMR.\", 'Adopt evidence-based and nationally consistent standards for infection prevention and control and biosecurity', 'Strengthen national evidence-based and best practice infection prevention and control standards and supporting resources in clinical and community settings including general practice, dentistry, pharmacy, aged care, and rural and remote primary health care.', 'Strengthen national evidence-based and best practice infection prevention and control standards and supporting resources in clinical and community settings including general practice, dentistry, pharmacy, aged care, and rural and remote primary health care.', 'Update hospital and general practice accreditation standards to better support best practice IPC in human health and consider additional mechanisms to support and monitor compliance in this setting.', 'Strengthen and assess the use of accreditation and/or quality assurance programs to better support the implementation of national biosecurity and/or IPC guidelines in the animal and human health sectors.', 'Strengthen and assess the use of accreditation and/or quality assurance programs to better support the implementation of national biosecurity and/or IPC guidelines in the animal and human health sectors.', 'Promote disease prevention practices to reduce infections and subsequent use of antimicrobials', 'Improve awareness of the importance of IPC in reducing AMR.', 'Foster the development of vaccines and the uptake of vaccination as a preventative measure to assist reduction in antimicrobial use.', 'Improve health literacy in priority populations and relevant stakeholders for key infections.', 'Improve and promote the national hand hygiene approach to reduce healthcare-associated infections and AMR and expand principles to other settings.', 'Develop and implement a coordinated, One Health communication strategy, as well as monitoring and evaluation, to support whole-of-society awareness and behavioural change', 'Develop and implement a One Health communication strategy to raise awareness of the actions stakeholders can take to minimise the development and impacts of resistance.', \"Increase health professionals' knowledge of antimicrobial stewardship in accordance with relevant national standards and policies.\", \"Increase health professionals' knowledge of antimicrobial stewardship in accordance with relevant national standards and policies.\", 'Facilitate access to, and dissemination of, national infection prevention and control/biosecurity guidelines for human and animal health through various platforms including the One Health AMR website.', 'Facilitate access to, and dissemination of, national infection prevention and control/biosecurity guidelines for human and animal health through various platforms including the One Health AMR website.', 'Ensure that coordinated, evidence-based antimicrobial prescribing guidelines and best-practice supports are developed and made easily available, and encourage their use by prescribers', 'Ensure that coordinated, evidence-based antimicrobial prescribing guidelines and best-practice supports are developed and made easily available, and encourage their use by prescribers', 'Develop and promote resources that support appropriate antimicrobial use for surgical prophylaxis and maintain consistency with national guidelines in human and animal health.', 'Develop and promote resources that support appropriate antimicrobial use for surgical prophylaxis and maintain consistency with national guidelines in human and animal health.', 'Ensure easy access to, and promotion of, current infection-specific guidelines that support informed antimicrobial prescribing across Australia.', 'Identify and address the enablers and barriers to the implementation of national standards in human health settings including aged care.', 'Identify and address the enablers and barriers to the implementation of national standards in human health settings including aged care.', 'Identify patterns of antimicrobial prescribing and provide feedback to prescribers to improve antimicrobial stewardship in all human and animal health settings.', 'Develop and implement jurisdictional-specific initiatives to support antimicrobial stewardship in human health, animal health, food and agriculture settings.', 'Develop and implement jurisdictional-specific initiatives to support antimicrobial stewardship in human health, animal health, food and agriculture settings.', 'Build monitoring, auditing and feedback processes into existing frameworks across relevant sectors.', 'Create a sustainably funded national One Health surveillance system that integrates human, animal, food and environmental usage and resistance data', 'Develop a national surveillance plan, including the potential use of genomics, with sector-specific objectives to support the implementation of a national One Health surveillance system.', 'Regularly review and promote the current list of priority organisms and associated antimicrobials for human and animal health surveillance and establish lists for other sectors as needed.', 'Regularly review and promote the current list of priority organisms and associated antimicrobials for human and animal health surveillance', 'Set a flexible national antimicrobial resistance research and development agenda that strives for innovation', 'Develop curricula on antimicrobial resistance for use in low- and middle-income countries, with a One Health emphasis.']",
         "yes",
         "The NAP includes specific actions in the human health sector, including infection prevention and control standards.",
         "yes",
         null,
         null
        ],
        [
         "2",
         "australia",
         "3",
         "yes",
         "['Develop, implement and/or update national biosecurity and waste management standards and support resources and education for different animal and agricultural settings.', 'Work with key stakeholders in the major food- and fibre-producing animal industries to improve on-farm biosecurity measures so antimicrobial treatments are used appropriately.', 'Work with key stakeholders in the major food- and fibre-producing animal industries to improve on-farm biosecurity measures so antimicrobial treatments are used appropriately.', 'Strengthen and assess the use of accreditation and/or quality assurance programs to better support the implementation of national biosecurity and/or IPC guidelines in the animal and human health sectors.', 'Strengthen and assess the use of accreditation and/or quality assurance programs to better support the implementation of national biosecurity and/or IPC guidelines in the animal and human health sectors.', 'Facilitate access to, and dissemination of, national infection prevention and control/biosecurity guidelines for human and animal health through various platforms including the One Health AMR website.', 'Facilitate access to, and dissemination of, national infection prevention and control/biosecurity guidelines for human and animal health through various platforms including the One Health AMR website.', 'Develop and promote resources that support appropriate antimicrobial use for surgical prophylaxis and maintain consistency with national guidelines in human and animal health.', 'Develop and promote resources that support appropriate antimicrobial use for surgical prophylaxis and maintain consistency with national guidelines in human and animal health.', 'Develop accreditation standards to better support adherence to antimicrobial stewardship across all animal settings, using existing practice and quality assurance frameworks where possible.', 'Develop accreditation standards to better support adherence to antimicrobial stewardship across all animal settings, using existing practice and quality assurance frameworks where possible.', 'Address barriers to improve selection and targeted use of antimicrobials in all animal settings.', 'Identify patterns of antimicrobial prescribing and provide feedback to prescribers to improve antimicrobial stewardship in all human and animal health settings.', 'Identify patterns of antimicrobial prescribing and provide feedback to prescribers to improve antimicrobial stewardship in all human and animal health settings.', 'Develop and implement jurisdictional-specific initiatives to support antimicrobial stewardship in human health, animal health, food and agriculture settings.', 'Develop and implement jurisdictional-specific initiatives to support antimicrobial stewardship in human health, animal health, food and agriculture settings.', 'Create a sustainably funded national One Health surveillance system that integrates human, animal, food and environmental usage and resistance data', 'Regularly review and promote the current list of priority organisms and associated antimicrobials for human and animal health surveillance and establish lists for other sectors as needed.', 'Regularly review and promote the current list of priority organisms and associated antimicrobials for human and animal health surveillance and establish lists for other sectors as needed.', 'Participate in WHO, World Organisation for Animal Health, Food and Agriculture Organization of the United Nations, United Nations Environment Programme, Codex and other high-level and technical international forums to enhance global antimicrobial resistance policies and initiatives.', 'Participate in WHO, World Organisation for Animal Health, Food and Agriculture Organization of the United Nations, United Nations Environment Programme, Codex and other high-level and technical international forums to enhance global antimicrobial resistance policies and initiatives.', 'Contribute to the current knowledge and understanding of AMR in animal health in the South East Asia and Pacific regions.', 'Contribute to the current knowledge and understanding of AMR in animal health in the South East Asia and Pacific regions.', 'Contribute to global antimicrobial resistance surveillance and antimicrobial usage monitoring activities such as Global Antimicrobial Resistance Surveillance System; and initiatives of the Food and Agriculture Organization of the United Nations and World Organisation for Animal Health.', 'Contribute to global antimicrobial resistance surveillance and antimicrobial usage monitoring activities such as Global Antimicrobial Resistance Surveillance System; and initiatives of the Food and Agriculture Organization of the United Nations and World Organisation for Animal Health.']",
         "yes",
         "The NAP includes specific actions targeting animal health, such as improving on-farm biosecurity measures.",
         "yes",
         null,
         null
        ],
        [
         "3",
         "australia",
         "4",
         "yes",
         "['Create a sustainably funded national One Health surveillance system that integrates human, animal, food and environmental usage and resistance data', 'Create a sustainably funded national One Health surveillance system that integrates human, animal, food and environmental usage and resistance data', 'Participate in WHO, World Organisation for Animal Health, Food and Agriculture Organization of the United Nations, United Nations Environment Programme, Codex and other high-level and technical international forums to enhance global antimicrobial resistance policies and initiatives.']",
         "yes",
         "The NAP includes actions related to environmental standards and biosecurity.",
         "yes",
         null,
         null
        ],
        [
         "4",
         "australia",
         "5",
         "yes",
         "['Develop, implement and/or update national biosecurity and waste management standards and support resources and education for different animal and agricultural settings.', 'Develop, implement and/or update national biosecurity and waste management standards and support resources and education for different animal and agricultural settings.', 'Work with key stakeholders in the major food- and fibre-producing animal industries to improve on-farm biosecurity measures so antimicrobial treatments are used appropriately.', 'Develop accreditation standards to better support adherence to antimicrobial stewardship across all animal settings, using existing practice and quality assurance frameworks where possible.', 'Develop accreditation standards to better support adherence to antimicrobial stewardship across all animal settings, using existing practice and quality assurance frameworks where possible.', 'Address barriers to improve selection and targeted use of antimicrobials in all animal settings.', 'Develop and implement jurisdictional-specific initiatives to support antimicrobial stewardship in human health, animal health, food and agriculture settings.', 'Develop and implement jurisdictional-specific initiatives to support antimicrobial stewardship in human health, animal health, food and agriculture settings.', 'Improve understanding of the extent to which resistant bacteria are present in the food chain, the extent of transmission of resistant organisms, and the risk this may pose to human health.', 'Improve understanding of the extent to which resistant bacteria are present in the food chain, the extent of transmission of resistant organisms, and the risk this may pose to human health.', 'Contribute to the current knowledge and understanding of AMR in animal health in the South East Asia and Pacific regions.', 'Contribute to the current knowledge and understanding of AMR in animal health in the South East Asia and Pacific regions.', 'Support food safety initiatives involving AMR in the South East Asia and Pacific regions, recognising the importance of cross border trade and zoonotic disease.', 'Support food safety initiatives involving AMR in the South East Asia and Pacific regions, recognising the importance of cross border trade and zoonotic disease.', 'Contribute to global antimicrobial resistance surveillance and antimicrobial usage monitoring activities such as Global Antimicrobial Resistance Surveillance System; and initiatives of the Food and Agriculture Organization of the United Nations and World Organisation for Animal Health.', 'Contribute to global antimicrobial resistance surveillance and antimicrobial usage monitoring activities such as Global Antimicrobial Resistance Surveillance System; and initiatives of the Food and Agriculture Organization of the United Nations and World Organisation for Animal Health.']",
         "yes",
         "The NAP includes actions aimed at improving agricultural practices and biosecurity measures.",
         "yes",
         null,
         null
        ]
       ],
       "shape": {
        "columns": 9,
        "rows": 5
       }
      },
      "text/html": [
       "<div>\n",
       "<style scoped>\n",
       "    .dataframe tbody tr th:only-of-type {\n",
       "        vertical-align: middle;\n",
       "    }\n",
       "\n",
       "    .dataframe tbody tr th {\n",
       "        vertical-align: top;\n",
       "    }\n",
       "\n",
       "    .dataframe thead th {\n",
       "        text-align: right;\n",
       "    }\n",
       "</style>\n",
       "<table border=\"1\" class=\"dataframe\">\n",
       "  <thead>\n",
       "    <tr style=\"text-align: right;\">\n",
       "      <th></th>\n",
       "      <th>country</th>\n",
       "      <th>question</th>\n",
       "      <th>answer_chunking</th>\n",
       "      <th>supporting_chunks</th>\n",
       "      <th>answer_full</th>\n",
       "      <th>supporting_text</th>\n",
       "      <th>answer</th>\n",
       "      <th>comment_input_for_protocol</th>\n",
       "      <th>supporting_text_when_true_answer_is_yes_but_prediction_is_no</th>\n",
       "    </tr>\n",
       "  </thead>\n",
       "  <tbody>\n",
       "    <tr>\n",
       "      <th>0</th>\n",
       "      <td>australia</td>\n",
       "      <td>1</td>\n",
       "      <td>yes</td>\n",
       "      <td>[the 2020 Strategy and OHMAP emphasise the imp...</td>\n",
       "      <td>yes</td>\n",
       "      <td>The NAP emphasises the importance of tackling ...</td>\n",
       "      <td>yes</td>\n",
       "      <td>NaN</td>\n",
       "      <td>NaN</td>\n",
       "    </tr>\n",
       "    <tr>\n",
       "      <th>1</th>\n",
       "      <td>australia</td>\n",
       "      <td>2</td>\n",
       "      <td>yes</td>\n",
       "      <td>[The 2020 Strategy focuses on seven Objectives...</td>\n",
       "      <td>yes</td>\n",
       "      <td>The NAP includes specific actions in the human...</td>\n",
       "      <td>yes</td>\n",
       "      <td>NaN</td>\n",
       "      <td>NaN</td>\n",
       "    </tr>\n",
       "    <tr>\n",
       "      <th>2</th>\n",
       "      <td>australia</td>\n",
       "      <td>3</td>\n",
       "      <td>yes</td>\n",
       "      <td>[Develop, implement and/or update national bio...</td>\n",
       "      <td>yes</td>\n",
       "      <td>The NAP includes specific actions targeting an...</td>\n",
       "      <td>yes</td>\n",
       "      <td>NaN</td>\n",
       "      <td>NaN</td>\n",
       "    </tr>\n",
       "    <tr>\n",
       "      <th>3</th>\n",
       "      <td>australia</td>\n",
       "      <td>4</td>\n",
       "      <td>yes</td>\n",
       "      <td>[Create a sustainably funded national One Heal...</td>\n",
       "      <td>yes</td>\n",
       "      <td>The NAP includes actions related to environmen...</td>\n",
       "      <td>yes</td>\n",
       "      <td>NaN</td>\n",
       "      <td>NaN</td>\n",
       "    </tr>\n",
       "    <tr>\n",
       "      <th>4</th>\n",
       "      <td>australia</td>\n",
       "      <td>5</td>\n",
       "      <td>yes</td>\n",
       "      <td>[Develop, implement and/or update national bio...</td>\n",
       "      <td>yes</td>\n",
       "      <td>The NAP includes actions aimed at improving ag...</td>\n",
       "      <td>yes</td>\n",
       "      <td>NaN</td>\n",
       "      <td>NaN</td>\n",
       "    </tr>\n",
       "  </tbody>\n",
       "</table>\n",
       "</div>"
      ],
      "text/plain": [
       "     country question answer_chunking  \\\n",
       "0  australia        1             yes   \n",
       "1  australia        2             yes   \n",
       "2  australia        3             yes   \n",
       "3  australia        4             yes   \n",
       "4  australia        5             yes   \n",
       "\n",
       "                                   supporting_chunks answer_full  \\\n",
       "0  [the 2020 Strategy and OHMAP emphasise the imp...         yes   \n",
       "1  [The 2020 Strategy focuses on seven Objectives...         yes   \n",
       "2  [Develop, implement and/or update national bio...         yes   \n",
       "3  [Create a sustainably funded national One Heal...         yes   \n",
       "4  [Develop, implement and/or update national bio...         yes   \n",
       "\n",
       "                                     supporting_text answer  \\\n",
       "0  The NAP emphasises the importance of tackling ...    yes   \n",
       "1  The NAP includes specific actions in the human...    yes   \n",
       "2  The NAP includes specific actions targeting an...    yes   \n",
       "3  The NAP includes actions related to environmen...    yes   \n",
       "4  The NAP includes actions aimed at improving ag...    yes   \n",
       "\n",
       "   comment_input_for_protocol  \\\n",
       "0                         NaN   \n",
       "1                         NaN   \n",
       "2                         NaN   \n",
       "3                         NaN   \n",
       "4                         NaN   \n",
       "\n",
       "   supporting_text_when_true_answer_is_yes_but_prediction_is_no  \n",
       "0                                                NaN             \n",
       "1                                                NaN             \n",
       "2                                                NaN             \n",
       "3                                                NaN             \n",
       "4                                                NaN             "
      ]
     },
     "execution_count": 5,
     "metadata": {},
     "output_type": "execute_result"
    }
   ],
   "source": [
    "combined_data.head()"
   ]
  },
  {
   "cell_type": "code",
   "execution_count": null,
   "id": "a904b567-b576-469e-875c-ee69d1e61b84",
   "metadata": {},
   "outputs": [],
   "source": []
  }
 ],
 "metadata": {
  "kernelspec": {
   "display_name": "Python 3",
   "language": "python",
   "name": "python3"
  },
  "language_info": {
   "codemirror_mode": {
    "name": "ipython",
    "version": 3
   },
   "file_extension": ".py",
   "mimetype": "text/x-python",
   "name": "python",
   "nbconvert_exporter": "python",
   "pygments_lexer": "ipython3",
   "version": "3.12.7"
  }
 },
 "nbformat": 4,
 "nbformat_minor": 5
}

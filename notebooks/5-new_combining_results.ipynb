{
 "cells": [
  {
   "cell_type": "code",
   "execution_count": 10,
   "id": "f9b2c50b-eed9-4bbe-8fae-3681336f9028",
   "metadata": {},
   "outputs": [],
   "source": [
    "import json\n",
    "import requests # to download some resources\n",
    "import os # file operations\n",
    "import numpy as np # linear algebra\n",
    "import pandas as pd # data processing"
   ]
  },
  {
   "cell_type": "code",
   "execution_count": 11,
   "id": "9c7ac386-663c-4277-b442-5cb51c57b86d",
   "metadata": {},
   "outputs": [
    {
     "name": "stdout",
     "output_type": "stream",
     "text": [
      "Archivo Excel guardado en: ../data/6-performance/combined_data_new.xlsx\n"
     ]
    }
   ],
   "source": [
    "# Consolidating answers from the whole sample\n",
    "# Folder Path\n",
    "folder_json = f\"../data/4-summary-responses-json/version_yesno_updated\"\n",
    "\n",
    "# Lista para almacenar los DataFrames\n",
    "dfs = []\n",
    "\n",
    "# Recorrer todos los archivos en la carpeta\n",
    "for file_name in os.listdir(folder_json):\n",
    "    if file_name.endswith(\".json\"):  # Filtrar solo JSONs\n",
    "        file_path = os.path.join(folder_json, file_name)  # Ruta completa del archivo\n",
    "        \n",
    "        # Cargar el JSON y convertirlo en DataFrame\n",
    "        df = pd.read_json(file_path)  # Aquí estaba el error\n",
    "        dfs.append(df)\n",
    "\n",
    "\n",
    "# Concatenar todos los DataFrames en uno solo\n",
    "combined_data = pd.concat(dfs, ignore_index=True)\n",
    "\n",
    "# Collapse by country and question\n",
    "combined_data = combined_data.groupby(['country', 'question'], as_index=False).agg({\n",
    "    'answer': lambda x: ', '.join(x.dropna().astype(str).tolist()),\n",
    "    'supporting_chunks': 'first',\n",
    "    'answer_full': 'first',\n",
    "    'supporting_text': 'first'\n",
    "})\n",
    "\n",
    "combined_data['question'] = combined_data['question'].astype(str)\n",
    "combined_data['country'] = combined_data['country'].astype(str)\n",
    "combined_data = combined_data.rename(columns={\"answer\": \"answer_chunking\"})\n",
    "combined_data = combined_data[~combined_data['question'].isin(['period_start', 'period_end'])]\n",
    "\n",
    "# Load the annotations\n",
    "annotations_df = pd.read_excel('../data/5-annotations/annotations_new.xlsx')\n",
    "annotations_df['question'] = annotations_df['question'].astype(str)\n",
    "annotations_df['answer'] = annotations_df['answer'].astype(str)\n",
    "\n",
    "# Joining with annotations\n",
    "combined_data = combined_data.merge(annotations_df, how='inner', on=['country', 'question'], suffixes=('', '_right'))\n",
    "\n",
    "output_path = f\"../data/6-performance/combined_data_new.xlsx\"  # Nombre del archivo Excel\n",
    "combined_data.to_excel(output_path, index=False)\n",
    "\n",
    "print(f\"Archivo Excel guardado en: {output_path}\")\n"
   ]
  },
  {
   "cell_type": "code",
   "execution_count": 12,
   "id": "a44a1e58-5c6c-4dd6-b7d9-02020f9a1104",
   "metadata": {},
   "outputs": [
    {
     "data": {
      "application/vnd.microsoft.datawrangler.viewer.v0+json": {
       "columns": [
        {
         "name": "index",
         "rawType": "int64",
         "type": "integer"
        },
        {
         "name": "country",
         "rawType": "object",
         "type": "string"
        },
        {
         "name": "question",
         "rawType": "object",
         "type": "string"
        },
        {
         "name": "answer_chunking",
         "rawType": "object",
         "type": "string"
        },
        {
         "name": "supporting_chunks",
         "rawType": "object",
         "type": "unknown"
        },
        {
         "name": "answer_full",
         "rawType": "object",
         "type": "string"
        },
        {
         "name": "supporting_text",
         "rawType": "object",
         "type": "string"
        },
        {
         "name": "answer",
         "rawType": "object",
         "type": "string"
        },
        {
         "name": "comment_input_for_protocol",
         "rawType": "float64",
         "type": "float"
        },
        {
         "name": "supporting_text_when_true_answer_is_yes_but_prediction_is_no",
         "rawType": "float64",
         "type": "float"
        }
       ],
       "conversionMethod": "pd.DataFrame",
       "ref": "dc2a162c-4dcb-41e9-95e5-5b77298d0468",
       "rows": [
        [
         "0",
         "bangladesh",
         "1",
         "yes",
         "[\"to institute a coherent, comprehensive and integrated national approach to combat AMR and sixteen other activities by signing to a charter of activities named as the 'Jaipur Declaration'. The other important areas in the Jaipur Declaration includes development of national antibiotic policy and formulation of multisectoral national alliance against AMR for multisectoral approach for regulation of use of antimicrobial agents.\", 'Since AMR is a multi-faceted problem, conduction of activities in well-coordinated manner through One Health approach is very important. Involvement of multi-sectoral stakeholders was ensured by formulating different national level committees with representation from multisectoral stake holders including interministrial National Steering Committee (NSC), headed by honourable Minister for MoHFW, National Technical Committee (NTC) headed by Director General of Health Services.', 'Promote and strengthen infection prevention and control (IPC) measures in both human and animal health sectors to minimize emergence and spread of AMT']",
         "yes",
         "The NAP was developed based on the national strategy covering almost all the areas recommended by the WHO and other relevant global agencies, ensuring a multi-sectoral approach.",
         "yes",
         null,
         null
        ],
        [
         "1",
         "bangladesh",
         "2",
         "yes",
         "['The other important areas in the Jaipur Declaration includes development of national antibiotic policy and formulation of multisectoral national alliance against AMR for multisectoral approach for regulation of use of antimicrobial agents, promotion of behavioural change in prescribers and communities for rational use of antimicrobial agents, building capacities for efficient surveillance, strengthening diagnostic capacities for microbial diseases and infection prevention and control programs.', 'To promote and ensure rational use of antimicrobial agents in human health, livestock and fisheries sectors;', '3. Promote and strengthen infection prevention and control (IPC) measures in both human and animal health sectors to minimize emergence and spread of AMT']",
         "yes",
         "To promote and ensure rational use of antimicrobial agents in human health, livestock and fisheries sectors.",
         "yes",
         null,
         null
        ],
        [
         "2",
         "bangladesh",
         "3",
         "yes",
         "['(v) to reduce the use of antimicrobials in food-animal production.', 'To promote and ensure rational use of antimicrobial agents in human health, livestock and fisheries sectors;', 'Promote and strengthen infection prevention and control (IPC) measures in both human and animal health sectors to minimize emergence and spread of AMT']",
         "yes",
         "To promote and ensure rational use of antimicrobial agents in human health, livestock and fisheries sectors.",
         "yes",
         null,
         null
        ],
        [
         "3",
         "bangladesh",
         "4",
         "yes",
         "['Ensure rational use of AMs in human health, Livestock, Fisheries sectors and Environment']",
         "yes",
         "To promote and ensure rational use of antimicrobial agents in human health, livestock and fisheries sectors and Environment.",
         "yes",
         null,
         null
        ],
        [
         "4",
         "bangladesh",
         "5",
         "yes",
         "['(v) to reduce the use of antimicrobials in food-animal production.', 'To promote and ensure rational use of antimicrobial agents in human health, livestock and fisheries sectors;']",
         "yes",
         "To promote and ensure rational use of antimicrobial agents in human health, livestock and fisheries sectors.",
         "yes",
         null,
         null
        ]
       ],
       "shape": {
        "columns": 9,
        "rows": 5
       }
      },
      "text/html": [
       "<div>\n",
       "<style scoped>\n",
       "    .dataframe tbody tr th:only-of-type {\n",
       "        vertical-align: middle;\n",
       "    }\n",
       "\n",
       "    .dataframe tbody tr th {\n",
       "        vertical-align: top;\n",
       "    }\n",
       "\n",
       "    .dataframe thead th {\n",
       "        text-align: right;\n",
       "    }\n",
       "</style>\n",
       "<table border=\"1\" class=\"dataframe\">\n",
       "  <thead>\n",
       "    <tr style=\"text-align: right;\">\n",
       "      <th></th>\n",
       "      <th>country</th>\n",
       "      <th>question</th>\n",
       "      <th>answer_chunking</th>\n",
       "      <th>supporting_chunks</th>\n",
       "      <th>answer_full</th>\n",
       "      <th>supporting_text</th>\n",
       "      <th>answer</th>\n",
       "      <th>comment_input_for_protocol</th>\n",
       "      <th>supporting_text_when_true_answer_is_yes_but_prediction_is_no</th>\n",
       "    </tr>\n",
       "  </thead>\n",
       "  <tbody>\n",
       "    <tr>\n",
       "      <th>0</th>\n",
       "      <td>bangladesh</td>\n",
       "      <td>1</td>\n",
       "      <td>yes</td>\n",
       "      <td>[to institute a coherent, comprehensive and in...</td>\n",
       "      <td>yes</td>\n",
       "      <td>The NAP was developed based on the national st...</td>\n",
       "      <td>yes</td>\n",
       "      <td>NaN</td>\n",
       "      <td>NaN</td>\n",
       "    </tr>\n",
       "    <tr>\n",
       "      <th>1</th>\n",
       "      <td>bangladesh</td>\n",
       "      <td>2</td>\n",
       "      <td>yes</td>\n",
       "      <td>[The other important areas in the Jaipur Decla...</td>\n",
       "      <td>yes</td>\n",
       "      <td>To promote and ensure rational use of antimicr...</td>\n",
       "      <td>yes</td>\n",
       "      <td>NaN</td>\n",
       "      <td>NaN</td>\n",
       "    </tr>\n",
       "    <tr>\n",
       "      <th>2</th>\n",
       "      <td>bangladesh</td>\n",
       "      <td>3</td>\n",
       "      <td>yes</td>\n",
       "      <td>[(v) to reduce the use of antimicrobials in fo...</td>\n",
       "      <td>yes</td>\n",
       "      <td>To promote and ensure rational use of antimicr...</td>\n",
       "      <td>yes</td>\n",
       "      <td>NaN</td>\n",
       "      <td>NaN</td>\n",
       "    </tr>\n",
       "    <tr>\n",
       "      <th>3</th>\n",
       "      <td>bangladesh</td>\n",
       "      <td>4</td>\n",
       "      <td>yes</td>\n",
       "      <td>[Ensure rational use of AMs in human health, L...</td>\n",
       "      <td>yes</td>\n",
       "      <td>To promote and ensure rational use of antimicr...</td>\n",
       "      <td>yes</td>\n",
       "      <td>NaN</td>\n",
       "      <td>NaN</td>\n",
       "    </tr>\n",
       "    <tr>\n",
       "      <th>4</th>\n",
       "      <td>bangladesh</td>\n",
       "      <td>5</td>\n",
       "      <td>yes</td>\n",
       "      <td>[(v) to reduce the use of antimicrobials in fo...</td>\n",
       "      <td>yes</td>\n",
       "      <td>To promote and ensure rational use of antimicr...</td>\n",
       "      <td>yes</td>\n",
       "      <td>NaN</td>\n",
       "      <td>NaN</td>\n",
       "    </tr>\n",
       "  </tbody>\n",
       "</table>\n",
       "</div>"
      ],
      "text/plain": [
       "      country question answer_chunking  \\\n",
       "0  bangladesh        1             yes   \n",
       "1  bangladesh        2             yes   \n",
       "2  bangladesh        3             yes   \n",
       "3  bangladesh        4             yes   \n",
       "4  bangladesh        5             yes   \n",
       "\n",
       "                                   supporting_chunks answer_full  \\\n",
       "0  [to institute a coherent, comprehensive and in...         yes   \n",
       "1  [The other important areas in the Jaipur Decla...         yes   \n",
       "2  [(v) to reduce the use of antimicrobials in fo...         yes   \n",
       "3  [Ensure rational use of AMs in human health, L...         yes   \n",
       "4  [(v) to reduce the use of antimicrobials in fo...         yes   \n",
       "\n",
       "                                     supporting_text answer  \\\n",
       "0  The NAP was developed based on the national st...    yes   \n",
       "1  To promote and ensure rational use of antimicr...    yes   \n",
       "2  To promote and ensure rational use of antimicr...    yes   \n",
       "3  To promote and ensure rational use of antimicr...    yes   \n",
       "4  To promote and ensure rational use of antimicr...    yes   \n",
       "\n",
       "   comment_input_for_protocol  \\\n",
       "0                         NaN   \n",
       "1                         NaN   \n",
       "2                         NaN   \n",
       "3                         NaN   \n",
       "4                         NaN   \n",
       "\n",
       "   supporting_text_when_true_answer_is_yes_but_prediction_is_no  \n",
       "0                                                NaN             \n",
       "1                                                NaN             \n",
       "2                                                NaN             \n",
       "3                                                NaN             \n",
       "4                                                NaN             "
      ]
     },
     "execution_count": 12,
     "metadata": {},
     "output_type": "execute_result"
    }
   ],
   "source": [
    "combined_data.head()"
   ]
  },
  {
   "cell_type": "code",
   "execution_count": null,
   "id": "a904b567-b576-469e-875c-ee69d1e61b84",
   "metadata": {},
   "outputs": [],
   "source": []
  }
 ],
 "metadata": {
  "kernelspec": {
   "display_name": "Python 3",
   "language": "python",
   "name": "python3"
  },
  "language_info": {
   "codemirror_mode": {
    "name": "ipython",
    "version": 3
   },
   "file_extension": ".py",
   "mimetype": "text/x-python",
   "name": "python",
   "nbconvert_exporter": "python",
   "pygments_lexer": "ipython3",
   "version": "3.12.7"
  }
 },
 "nbformat": 4,
 "nbformat_minor": 5
}
